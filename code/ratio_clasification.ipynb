{
 "cells": [
  {
   "attachments": {},
   "cell_type": "markdown",
   "metadata": {},
   "source": [
    "# Clasificación según distribución de $PM_{2.5}/PM_{10}$"
   ]
  },
  {
   "attachments": {},
   "cell_type": "markdown",
   "metadata": {},
   "source": [
    "En este código se realiza la clasificación de los datos según la distribución de $PM_{2.5}/PM_{10}$, clasificación propuesta en el artículo de [Fan, H., Zhao, C., Yang, Y., & Yang, X. (2021)](https://doi.org/10.3389/fenvs.2021.692440). Para esto, se utilizarán los datos de las estaciones de monitoreo de Bogotá del año 2022. De estos se hallará el valor del pico, la kurtosis y la asimetría de la distribución de $PM_{2.5}/PM_{10}$ para cada estación. La clasificación se realizará según los siguientes criterios:  \n",
    "![Clasificación de los contaminantes](../img/clasificacion_pm_ratio.jpg) "
   ]
  },
  {
   "cell_type": "code",
   "execution_count": 1,
   "metadata": {},
   "outputs": [],
   "source": [
    "# importamos las librerias\n",
    "import pandas as pd\n",
    "import numpy as np\n",
    "import matplotlib.pyplot as plt\n",
    "import plotly.graph_objects as go\n",
    "from mpl_toolkits.basemap import Basemap\n",
    "from datetime import timedelta\n",
    "import bs4 as bs\n",
    "import requests\n",
    "import re"
   ]
  },
  {
   "attachments": {},
   "cell_type": "markdown",
   "metadata": {},
   "source": [
    "## 1. Importación de datos"
   ]
  },
  {
   "attachments": {},
   "cell_type": "markdown",
   "metadata": {},
   "source": [
    "Importación todos los datos de las estaciones de monitoreo de Bogotá"
   ]
  },
  {
   "cell_type": "code",
   "execution_count": 2,
   "metadata": {},
   "outputs": [],
   "source": [
    "# array con los nombres código de las estaciones\n",
    "estaciones = [\"BOL\",\"CBV\",\"CDAR\",\"COL\",\"CSE\",\"FTB\",\n",
    "              \"GYR\",\"JAZ\",\"KEN\",\"LFR\",\"MAM\",\"MOV1\",\n",
    "              \"MOV2\",\"PTE\",\"SCR\",\"SUB\",\"TUN\",\"USM\",\"USQ\"]\n",
    "\n",
    "# definimos la función para importar los datos de las estaciones\n",
    "def importar_datos_individuales(estaciones, año):\n",
    "    # importamos los datos de las estaciones y cada DataFrame lo guardamos en un diccionario\n",
    "    datos = {}\n",
    "    for i in estaciones:\n",
    "        # importamos un set de datos\n",
    "        data = pd.read_excel(\n",
    "            \"../data/\"+str(año)+\"/\" + str(i) + \"_\"+str(año)+\".xlsx\", skiprows=3, skipfooter=11, index_col=0\n",
    "        )[[\"PM10\", \"PM2.5\"]] # importamos las columnas de PM10 y PM2.5\n",
    "\n",
    "        # eliminamos la fila de unidades\n",
    "        data.drop(data.index[0], inplace=True)\n",
    "\n",
    "        # cambiamos el indice a tipo fecha, cambiando el 24:00 por 00:00 del otro día\n",
    "        data.index = pd.to_datetime(\n",
    "            data.index.str.replace(\"24:00\", \"00:00\"), format=\"%d-%m-%Y %H:%M\"\n",
    "        )\n",
    "        new_index = []\n",
    "        for j in range(len(data.index)):\n",
    "            new_index.append(data.index[j])\n",
    "            if data.index[j].hour == 0:  # si la hora es 00:00 le sumamos un día\n",
    "                new_index[j] = data.index[j] + timedelta(days=1)\n",
    "        data.index = new_index\n",
    "\n",
    "        # cambiamos el tipo de datos a float\n",
    "        data[\"PM10\"] = pd.to_numeric(data[\"PM10\"], errors=\"coerce\")\n",
    "        data[\"PM2.5\"] = pd.to_numeric(data[\"PM2.5\"], errors=\"coerce\")\n",
    "\n",
    "        # eliminamos los datos nulos\n",
    "        data.dropna(inplace=True)\n",
    "\n",
    "        # creamos la columna con la relacion PM2.5/PM10\n",
    "        data[\"ratio\"] = data[\"PM2.5\"] / data[\"PM10\"]\n",
    "\n",
    "        # eliminamos todas las entradas en las que el ratio es mayor o igual a 1 y menor o igual a 0\n",
    "        data = data[data[\"ratio\"] < 1]\n",
    "        data = data[data[\"ratio\"] > 0]\n",
    "\n",
    "        # guardamos el DataFrame con su nombre en el diccionario\n",
    "        datos[i] = data\n",
    "\n",
    "    # calculamos el procentaje de datos que tenemos en cada estacion: datos validos/8760 (8760 horas en un año)\n",
    "    porcentaje_datos = {}\n",
    "    for i in estaciones:\n",
    "        porcentaje_datos[i] = len(datos[i]) / 8760\n",
    "\n",
    "    # # descartamos las estaciones que tienen menos del 70% de datos validos\n",
    "    # estaciones = [i for i in estaciones if porcentaje_datos[i] >= 0.7]\n",
    "    # datos = {i: datos[i] for i in estaciones}\n",
    "\n",
    "    return datos, porcentaje_datos\n",
    "\n",
    "# importamos los datos de las estaciones para cada año\n",
    "datos_2020, porcentaje_datos_2020 = importar_datos_individuales(estaciones, 2020)\n",
    "datos_2021, porcentaje_datos_2021 = importar_datos_individuales(estaciones, 2021)\n",
    "datos_2022, porcentaje_datos_2022 = importar_datos_individuales(estaciones, 2022)"
   ]
  },
  {
   "attachments": {},
   "cell_type": "markdown",
   "metadata": {},
   "source": [
    "Visualización de los porcentajes de datos respecto a los de un año"
   ]
  },
  {
   "cell_type": "code",
   "execution_count": 3,
   "metadata": {},
   "outputs": [
    {
     "name": "stdout",
     "output_type": "stream",
     "text": [
      "Porcentaje de datos validos en 2020 -> 2021 -> 2022:\n",
      "1. BOL: 18.97% -> 95.09% -> 84.37%\n",
      "2. CBV: 20.08% -> 93.64% -> 92.28%\n",
      "3. CDAR: 75.68% -> 71.68% -> 81.91%\n",
      "4. COL: 0.00% -> 67.11% -> 88.07%\n",
      "5. CSE: 89.42% -> 79.62% -> 19.10%\n",
      "6. FTB: 86.74% -> 81.91% -> 94.24%\n",
      "7. GYR: 81.36% -> 83.64% -> 91.11%\n",
      "8. JAZ: 22.60% -> 91.91% -> 93.38%\n",
      "9. KEN: 92.81% -> 86.70% -> 83.42%\n",
      "10. LFR: 76.07% -> 75.55% -> 84.32%\n",
      "11. MAM: 72.68% -> 70.96% -> 75.02%\n",
      "12. MOV1: 91.96% -> 81.48% -> 54.75%\n",
      "13. MOV2: 0.00% -> 68.25% -> 92.98%\n",
      "14. PTE: 81.64% -> 58.09% -> 40.10%\n",
      "15. SCR: 80.31% -> 69.77% -> 79.54%\n",
      "16. SUB: 85.11% -> 83.42% -> 74.37%\n",
      "17. TUN: 91.56% -> 84.92% -> 88.13%\n",
      "18. USM: 19.45% -> 91.07% -> 92.55%\n",
      "19. USQ: 35.62% -> 46.18% -> 74.26%\n"
     ]
    }
   ],
   "source": [
    "# imprimimos el porcentaje de datos validos de cada estacion\n",
    "print(\"Porcentaje de datos validos en 2020 -> 2021 -> 2022:\")\n",
    "for i, estacion in enumerate(estaciones):\n",
    "    print(f\"{i+1}. {estacion}: {porcentaje_datos_2020[estacion]*100:.2f}% -> {porcentaje_datos_2021[estacion]*100:.2f}% -> {porcentaje_datos_2022[estacion]*100:.2f}%\")"
   ]
  },
  {
   "attachments": {},
   "cell_type": "markdown",
   "metadata": {},
   "source": [
    "Eliminación de los datos cuyo porcentaje es menor al 70%"
   ]
  },
  {
   "cell_type": "code",
   "execution_count": 3,
   "metadata": {},
   "outputs": [
    {
     "name": "stdout",
     "output_type": "stream",
     "text": [
      "\n",
      "Cantidad de estaciones en 2020 -> 2021 -> 2022:\n",
      "12 -> 14 -> 16\n"
     ]
    }
   ],
   "source": [
    "# en cada grupo de datos por año, eliminamos las estaciones con menos del 70% de datos validos\n",
    "estaciones_2020 = [i for i in estaciones if porcentaje_datos_2020[i] >= 0.7]\n",
    "datos_2020 = {i: datos_2020[i] for i in estaciones_2020}\n",
    "estaciones_2021 = [i for i in estaciones if porcentaje_datos_2021[i] >= 0.7]\n",
    "datos_2021 = {i: datos_2021[i] for i in estaciones_2021}\n",
    "estaciones_2022 = [i for i in estaciones if porcentaje_datos_2022[i] >= 0.7]\n",
    "datos_2022 = {i: datos_2022[i] for i in estaciones_2022}\n",
    "\n",
    "# imprimimos la cantidad de estaciones en cada año\n",
    "print(\"\\nCantidad de estaciones en 2020 -> 2021 -> 2022:\")\n",
    "print(f\"{len(estaciones_2020)} -> {len(estaciones_2021)} -> {len(estaciones_2022)}\")\n"
   ]
  },
  {
   "attachments": {},
   "cell_type": "markdown",
   "metadata": {},
   "source": [
    "Estaciones que cumplen con el porcentaje de datos en cada año"
   ]
  },
  {
   "cell_type": "code",
   "execution_count": null,
   "metadata": {},
   "outputs": [],
   "source": [
    "print(\"Estaciones con más del 70% de datos validos:\")\n",
    "for i, estacion in enumerate(estaciones_2020):\n",
    "    print(f\"{i+1}. {estacion} - {porcentaje_datos_2020[estacion]*100:.2f}%\")\n",
    "\n",
    "print(\"\\nEstaciones con más del 70% de datos validos:\")\n",
    "for i, estacion in enumerate(estaciones_2021):\n",
    "    print(f\"{i+1}. {estacion} - {porcentaje_datos_2021[estacion]*100:.2f}%\")\n",
    "\n",
    "print(\"\\nEstaciones con más del 70% de datos validos:\")\n",
    "for i, estacion in enumerate(estaciones_2022):\n",
    "    print(f\"{i+1}. {estacion} - {porcentaje_datos_2022[estacion]*100:.2f}%\")"
   ]
  },
  {
   "attachments": {},
   "cell_type": "markdown",
   "metadata": {},
   "source": [
    "## 2. Clasificación de contaminantes por en cada estación"
   ]
  },
  {
   "attachments": {},
   "cell_type": "markdown",
   "metadata": {},
   "source": [
    "Definimos las funciones de graficación de los histogramas, de clasificación de los contaminantes y de mapeado sobre el mapa de Bogotá"
   ]
  },
  {
   "cell_type": "code",
   "execution_count": 67,
   "metadata": {},
   "outputs": [],
   "source": [
    "# definimos las constantes\n",
    "\n",
    "lim_inf = 0.4  # limites de clasificación y el numero de bins\n",
    "lim_sup = 0.6\n",
    "n_bins = \"doane\" # metodo de calculo de los bins\n",
    "\n",
    "tipos = {      # tipos de contaminantes\n",
    "    1.1: \"Typical Dust type (Ia)\",\n",
    "    1.2: \"Atypical Dust type (Ib)\",\n",
    "    2.1: \"Typical Mixed type (IIa)\",\n",
    "    2.21: \"Mixed-Anthropogenic type (IIb1)\",\n",
    "    2.22: \"Mixed-Dust type (IIb2)\",\n",
    "    3.1: \"Typical Anthropogenic type (IIIa)\",\n",
    "    3.2: \"Atypical Anthropogenic type (IIIb)\",\n",
    "}\n",
    "\n",
    "url = \"https://ambientebogota.gov.co/estaciones-rmcab\" # url de la pagina de la RMCAB\n",
    "\n",
    "\n",
    "colores = {     # colores para cada tipo de contaminante en el mapa\n",
    "    1.1: \"saddlebrown\",\n",
    "    1.2: \"chocolate\",\n",
    "    2.1: \"black\",\n",
    "    2.21: \"midnightblue\",\n",
    "    2.22: \"mediumpurple\",\n",
    "    3.1: \"#e40000\",\n",
    "    3.2: \"#ff4c4c\",\n",
    "}\n",
    "\n",
    "# definimos la función para graficar los histogramas\n",
    "def graficar_histogramas(datos, estaciones, año):\n",
    "    # graficamos el histograma de la relacion PM2.5/PM10 para cada estacion\n",
    "    fig, ax = plt.subplots(4, np.ceil(len(estaciones)/4).astype(\"int\"), figsize=(17, 12))\n",
    "    ax = ax.ravel()  # convertimos el array de 4x4 a 1x16\n",
    "\n",
    "    for i in range(len(estaciones)):\n",
    "        ax[i].hist(\n",
    "            datos[estaciones[i]][\"ratio\"],\n",
    "            bins=n_bins,\n",
    "            edgecolor=\"black\",\n",
    "            histtype=\"bar\",\n",
    "            color=\"darkorchid\",\n",
    "            align=\"mid\",\n",
    "            range=(0, 1),\n",
    "        )\n",
    "        ax[i].axvline(lim_inf, color=\"red\", linestyle=\"dashed\")\n",
    "        ax[i].axvline(lim_sup, color=\"red\", linestyle=\"dashed\")\n",
    "        ax[i].set_title(estaciones[i], fontsize=15, fontweight=\"bold\")\n",
    "        ax[i].grid(alpha=0.5)\n",
    "        ax[i].set_axisbelow(True)  # para que la grilla quede detras de las barras\n",
    "        ax[i].tick_params(\n",
    "            axis=\"both\", which=\"major\", labelsize=11, length=4\n",
    "        )  # tamaño de los numeros en los ejes\n",
    "\n",
    "    # agregamos espacio entre los subplots\n",
    "    fig.subplots_adjust(hspace=0.3, wspace=0.15, left=0.08)\n",
    "\n",
    "    # agregamos un solo texto centrado en la parte inferior\n",
    "    fig.text(0.5, 0.05, r\"$PM_{2.5}/PM_{10}$ \"+str(año), ha=\"center\", fontsize=22)\n",
    "\n",
    "    # agregamos un solo texto centrado verticalmente en la parte izquierda\n",
    "    fig.text(0.02, 0.5, \"Frecuencia\", va=\"center\", rotation=\"vertical\", fontsize=25)\n",
    "\n",
    "# definimos la función para clasificar los datos de cada estacion según la clasificación de propuesta por el paper\n",
    "def clasificacion(parametros):\n",
    "    # parametros = [peak, kurtosis, skewness]\n",
    "    if parametros[0] <= lim_inf:\n",
    "        if parametros[1] >= 0:\n",
    "            return 1.1\n",
    "        elif parametros[1] < 0:\n",
    "            return 1.2\n",
    "    elif parametros[0] > lim_inf and parametros[0] < lim_sup:\n",
    "        if parametros[1] >= 0:\n",
    "            return 2.1\n",
    "        elif parametros[1] < 0:\n",
    "            if parametros[2] >= 0:\n",
    "                return 2.21\n",
    "            elif parametros[2] < 0:\n",
    "                return 2.22\n",
    "    elif parametros[0] >= lim_sup:\n",
    "        if parametros[1] >= 0:\n",
    "            return 3.1\n",
    "        elif parametros[1] < 0:\n",
    "            return 3.2\n",
    "\n",
    "# definimos la función para clasificar los datos para cada set de datos\n",
    "def clasificacion_set(datos, estaciones):\n",
    "    # calculamos los parametros necesarios para la clasificacion\n",
    "    parametros = {}\n",
    "    for i in estaciones:\n",
    "        hist, bin_edges = np.histogram(datos[i][\"ratio\"], bins=n_bins, range=(0, 1))\n",
    "        # peak = bin_edges[np.argmax(hist)]\n",
    "        peak = np.mean(bin_edges[np.argmax(hist):np.argmax(hist)+2])\n",
    "        kurtosis = datos[i][\"ratio\"].kurtosis()\n",
    "        skewness = datos[i][\"ratio\"].skew()\n",
    "        parametros[i] = [peak, kurtosis, skewness]\n",
    "\n",
    "    # clasificamos las estaciones\n",
    "    clasificaciones = {}\n",
    "    for i in estaciones:\n",
    "        clasificaciones[i] = clasificacion(parametros[i])\n",
    "\n",
    "    # imprimimos las clasificaciones\n",
    "    print(\"Clasificaciones:\")\n",
    "    for i in estaciones:\n",
    "        print(f\"{i}: {tipos[clasificaciones[i]]}\")\n",
    "    \n",
    "    return clasificaciones\n",
    "\n",
    "# definimos la función para mapear usando plotly\n",
    "def mapear_plotly(estaciones, clasificaciones, año):\n",
    "    # obtenemos la longitud y latitud de cada estacion desde el sitio web de la secretaria de ambiente de bogota\n",
    "    soup = bs.BeautifulSoup(\n",
    "        requests.get(url).text, \"html.parser\"\n",
    "    )\n",
    "    coordenadas = {}  # diccionario con las coordenadas de cada estacion [latitud, longitud]\n",
    "    for i in estaciones:\n",
    "\n",
    "        if i != \"MOV1\": # MOV1 no aparece en la pagina de la RMCAB\n",
    "            coordenadas[i] = [\n",
    "                soup.find(\"td\", string=i).find_next_sibling().text.replace(\" \", \"\"),\n",
    "                soup.find(\"td\", string=i).find_next_sibling().find_next_sibling().text.replace(\" \", \"\"),\n",
    "            ]\n",
    "        elif i == \"MOV1\":\n",
    "            coordenadas[i] = [\"4°38'42.7\\\"N\", \"74°03'41.6\\\"W\"]\n",
    "\n",
    "    # convertimos las coordenadas a float\n",
    "    def convertir_coordenada(coordenada):\n",
    "        grados, minutos, segundos, direccion = re.split(\"[°'\\\"]\", coordenada)\n",
    "        decimal = float(grados) + float(minutos) / 60 + float(segundos) / 3600\n",
    "        if direccion in [\"S\", \"W\"]:\n",
    "            decimal *= -1\n",
    "        return decimal\n",
    "\n",
    "    for i in estaciones:\n",
    "        coordenadas[i][0] = convertir_coordenada(coordenadas[i][0])\n",
    "        coordenadas[i][1] = convertir_coordenada(coordenadas[i][1])\n",
    "\n",
    "    #graficamos las estaciones en un mapa\n",
    "    fig = go.Figure(go.Scattermapbox(\n",
    "        mode=\"markers\",\n",
    "        lon=[coordenadas[i][1] for i in estaciones],\n",
    "        lat=[coordenadas[i][0] for i in estaciones],\n",
    "        marker={\"size\": 15, \"color\": [colores.get(clasificaciones[i]) for i in estaciones]},\n",
    "        text=[f\"{i}: {tipos[clasificaciones[i]]}\" for i in estaciones],\n",
    "        showlegend=False,\n",
    "    ))\n",
    "\n",
    "    # construimos la leyenda de colores para el mapa\n",
    "    for i in tipos.keys():\n",
    "        fig.add_trace(\n",
    "            go.Scattermapbox(\n",
    "                lon=[-70],\n",
    "                lat=[4.7],\n",
    "                mode=\"markers\",\n",
    "                marker={\"size\": 10, \"color\": colores.get(i)},\n",
    "                # showlegend=True,\n",
    "                name=tipos.get(i),\n",
    "            )\n",
    "        )\n",
    "\n",
    "    fig.update_layout(\n",
    "        title = {\n",
    "            \"font\": {\"size\": 24},\n",
    "            \"text\": \"Clasificación de contaminantes en Bogotá \"+str(año),\n",
    "            \"x\": 0.08,\n",
    "            # \"xanchor\": \"center\",\n",
    "            \"y\": 0.15,\n",
    "            # \"yanchor\": \"bottom\",\n",
    "\n",
    "        },\n",
    "        mapbox={\n",
    "            \"style\": \"stamen-terrain\",\n",
    "            'center': {'lon': -74.1, 'lat': 4.65}, # centro de bogota\n",
    "            \"zoom\": 10.4,\n",
    "        },\n",
    "        margin={\"l\": 0, \"r\": 0, \"t\": 0, \"b\": 0},\n",
    "        width=900,\n",
    "        height=800,\n",
    "        showlegend=True,\n",
    "        # legend_title_text=\"Clasificaciones\",\n",
    "        # legend_font_size=15,\n",
    "        # legend_orientation=\"h\",\n",
    "        legend = {\n",
    "            \"title\": {\"font\": {\"size\": 20}, \"text\": \"Clasificaciones\"},\n",
    "            \"font\": {\"size\": 15},\n",
    "            \"orientation\": \"h\",\n",
    "            \"x\": 0.08,\n",
    "        },\n",
    "    )\n",
    "\n",
    "    # guardamos la imagen\n",
    "    fig.write_image(f\"../data/results/map_{año}.png\")\n",
    "\n",
    "    # mostramos la imagen\n",
    "    fig.show()\n"
   ]
  },
  {
   "attachments": {},
   "cell_type": "markdown",
   "metadata": {},
   "source": [
    "### Análisis de la distribución de $PM_{2.5}/PM_{10}$ en cada estación en 2020"
   ]
  },
  {
   "cell_type": "code",
   "execution_count": 68,
   "metadata": {},
   "outputs": [
    {
     "data": {
      "image/png": "[encoded data removed]",
      "text/plain": [
       "<Figure size 1700x1200 with 12 Axes>"
      ]
     },
     "metadata": {},
     "output_type": "display_data"
    }
   ],
   "source": [
    "# graficamos los histogramas de los datos de 2020\n",
    "graficar_histogramas(datos_2020, estaciones_2020, 2020)"
   ]
  },
  {
   "cell_type": "code",
   "execution_count": 59,
   "metadata": {},
   "outputs": [
    {
     "name": "stdout",
     "output_type": "stream",
     "text": [
      "Clasificaciones:\n",
      "CDAR: Atypical Anthropogenic type (IIIb)\n",
      "CSE: Typical Mixed type (IIa)\n",
      "FTB: Mixed-Anthropogenic type (IIb1)\n",
      "GYR: Mixed-Anthropogenic type (IIb1)\n",
      "KEN: Mixed-Anthropogenic type (IIb1)\n",
      "LFR: Mixed-Anthropogenic type (IIb1)\n",
      "MAM: Mixed-Dust type (IIb2)\n",
      "MOV1: Mixed-Anthropogenic type (IIb1)\n",
      "PTE: Mixed-Dust type (IIb2)\n",
      "SCR: Mixed-Anthropogenic type (IIb1)\n",
      "SUB: Mixed-Anthropogenic type (IIb1)\n",
      "TUN: Atypical Dust type (Ib)\n"
     ]
    }
   ],
   "source": [
    "# clasificamos los datos de 2020\n",
    "clasificacion_2020 = clasificacion_set(datos_2020, estaciones_2020)"
   ]
  },
  {
   "cell_type": "code",
   "execution_count": 60,
   "metadata": {},
   "outputs": [
    {
     "data": {
      "application/vnd.plotly.v1+json": {
       "config": {
        "plotlyServerURL": "https://plot.ly"
       },
       "data": [
        {
         "lat": [
          4.658466666666667,
          4.595833333333333,
          4.678241666666667,
          4.7837499999999995,
          4.625050000000001,
          4.6907000000000005,
          4.625486111111112,
          4.645194444444444,
          4.6317666666666675,
          4.572552777777777,
          4.761247222222222,
          4.576225
         ],
         "lon": [
          -74.08396666666667,
          -74.14850000000001,
          -74.14381944444445,
          -74.04413888888888,
          -74.16133333333335,
          -74.08248333333333,
          -74.06698055555555,
          -74.06155555555556,
          -74.11748333333333,
          -74.08381388888888,
          -74.09346111111111,
          -74.13095555555554
         ],
         "marker": {
          "color": [
           "#ff4c4c",
           "black",
           "midnightblue",
           "midnightblue",
           "midnightblue",
           "midnightblue",
           "mediumpurple",
           "midnightblue",
           "mediumpurple",
           "midnightblue",
           "midnightblue",
           "chocolate"
          ],
          "size": 15
         },
         "mode": "markers",
         "showlegend": false,
         "text": [
          "CDAR: Atypical Anthropogenic type (IIIb)",
          "CSE: Typical Mixed type (IIa)",
          "FTB: Mixed-Anthropogenic type (IIb1)",
          "GYR: Mixed-Anthropogenic type (IIb1)",
          "KEN: Mixed-Anthropogenic type (IIb1)",
          "LFR: Mixed-Anthropogenic type (IIb1)",
          "MAM: Mixed-Dust type (IIb2)",
          "MOV1: Mixed-Anthropogenic type (IIb1)",
          "PTE: Mixed-Dust type (IIb2)",
          "SCR: Mixed-Anthropogenic type (IIb1)",
          "SUB: Mixed-Anthropogenic type (IIb1)",
          "TUN: Atypical Dust type (Ib)"
         ],
         "type": "scattermapbox"
        },
        {
         "lat": [
          4.7
         ],
         "lon": [
          -70
         ],
         "marker": {
          "color": "saddlebrown",
          "size": 10
         },
         "mode": "markers",
         "name": "Typical Dust type (Ia)",
         "type": "scattermapbox"
        },
        {
         "lat": [
          4.7
         ],
         "lon": [
          -70
         ],
         "marker": {
          "color": "chocolate",
          "size": 10
         },
         "mode": "markers",
         "name": "Atypical Dust type (Ib)",
         "type": "scattermapbox"
        },
        {
         "lat": [
          4.7
         ],
         "lon": [
          -70
         ],
         "marker": {
          "color": "black",
          "size": 10
         },
         "mode": "markers",
         "name": "Typical Mixed type (IIa)",
         "type": "scattermapbox"
        },
        {
         "lat": [
          4.7
         ],
         "lon": [
          -70
         ],
         "marker": {
          "color": "midnightblue",
          "size": 10
         },
         "mode": "markers",
         "name": "Mixed-Anthropogenic type (IIb1)",
         "type": "scattermapbox"
        },
        {
         "lat": [
          4.7
         ],
         "lon": [
          -70
         ],
         "marker": {
          "color": "mediumpurple",
          "size": 10
         },
         "mode": "markers",
         "name": "Mixed-Dust type (IIb2)",
         "type": "scattermapbox"
        },
        {
         "lat": [
          4.7
         ],
         "lon": [
          -70
         ],
         "marker": {
          "color": "#e40000",
          "size": 10
         },
         "mode": "markers",
         "name": "Typical Anthropogenic type (IIIa)",
         "type": "scattermapbox"
        },
        {
         "lat": [
          4.7
         ],
         "lon": [
          -70
         ],
         "marker": {
          "color": "#ff4c4c",
          "size": 10
         },
         "mode": "markers",
         "name": "Atypical Anthropogenic type (IIIb)",
         "type": "scattermapbox"
        }
       ],
       "layout": {
        "height": 800,
        "legend": {
         "font": {
          "size": 15
         },
         "orientation": "h",
         "title": {
          "font": {
           "size": 20
          },
          "text": "Clasificaciones"
         },
         "x": 0.08
        },
        "mapbox": {
         "center": {
          "lat": 4.65,
          "lon": -74.1
         },
         "style": "stamen-terrain",
         "zoom": 10.4
        },
        "margin": {
         "b": 0,
         "l": 0,
         "r": 0,
         "t": 0
        },
        "showlegend": true,
        "template": {
         "data": {
          "bar": [
           {
            "error_x": {
             "color": "#2a3f5f"
            },
            "error_y": {
             "color": "#2a3f5f"
            },
            "marker": {
             "line": {
              "color": "#E5ECF6",
              "width": 0.5
             },
             "pattern": {
              "fillmode": "overlay",
              "size": 10,
              "solidity": 0.2
             }
            },
            "type": "bar"
           }
          ],
          "barpolar": [
           {
            "marker": {
             "line": {
              "color": "#E5ECF6",
              "width": 0.5
             },
             "pattern": {
              "fillmode": "overlay",
              "size": 10,
              "solidity": 0.2
             }
            },
            "type": "barpolar"
           }
          ],
          "carpet": [
           {
            "aaxis": {
             "endlinecolor": "#2a3f5f",
             "gridcolor": "white",
             "linecolor": "white",
             "minorgridcolor": "white",
             "startlinecolor": "#2a3f5f"
            },
            "baxis": {
             "endlinecolor": "#2a3f5f",
             "gridcolor": "white",
             "linecolor": "white",
             "minorgridcolor": "white",
             "startlinecolor": "#2a3f5f"
            },
            "type": "carpet"
           }
          ],
          "choropleth": [
           {
            "colorbar": {
             "outlinewidth": 0,
             "ticks": ""
            },
            "type": "choropleth"
           }
          ],
          "contour": [
           {
            "colorbar": {
             "outlinewidth": 0,
             "ticks": ""
            },
            "colorscale": [
             [
              0,
              "#0d0887"
             ],
             [
              0.1111111111111111,
              "#46039f"
             ],
             [
              0.2222222222222222,
              "#7201a8"
             ],
             [
              0.3333333333333333,
              "#9c179e"
             ],
             [
              0.4444444444444444,
              "#bd3786"
             ],
             [
              0.5555555555555556,
              "#d8576b"
             ],
             [
              0.6666666666666666,
              "#ed7953"
             ],
             [
              0.7777777777777778,
              "#fb9f3a"
             ],
             [
              0.8888888888888888,
              "#fdca26"
             ],
             [
              1,
              "#f0f921"
             ]
            ],
            "type": "contour"
           }
          ],
          "contourcarpet": [
           {
            "colorbar": {
             "outlinewidth": 0,
             "ticks": ""
            },
            "type": "contourcarpet"
           }
          ],
          "heatmap": [
           {
            "colorbar": {
             "outlinewidth": 0,
             "ticks": ""
            },
            "colorscale": [
             [
              0,
              "#0d0887"
             ],
             [
              0.1111111111111111,
              "#46039f"
             ],
             [
              0.2222222222222222,
              "#7201a8"
             ],
             [
              0.3333333333333333,
              "#9c179e"
             ],
             [
              0.4444444444444444,
              "#bd3786"
             ],
             [
              0.5555555555555556,
              "#d8576b"
             ],
             [
              0.6666666666666666,
              "#ed7953"
             ],
             [
              0.7777777777777778,
              "#fb9f3a"
             ],
             [
              0.8888888888888888,
              "#fdca26"
             ],
             [
              1,
              "#f0f921"
             ]
            ],
            "type": "heatmap"
           }
          ],
          "heatmapgl": [
           {
            "colorbar": {
             "outlinewidth": 0,
             "ticks": ""
            },
            "colorscale": [
             [
              0,
              "#0d0887"
             ],
             [
              0.1111111111111111,
              "#46039f"
             ],
             [
              0.2222222222222222,
              "#7201a8"
             ],
             [
              0.3333333333333333,
              "#9c179e"
             ],
             [
              0.4444444444444444,
              "#bd3786"
             ],
             [
              0.5555555555555556,
              "#d8576b"
             ],
             [
              0.6666666666666666,
              "#ed7953"
             ],
             [
              0.7777777777777778,
              "#fb9f3a"
             ],
             [
              0.8888888888888888,
              "#fdca26"
             ],
             [
              1,
              "#f0f921"
             ]
            ],
            "type": "heatmapgl"
           }
          ],
          "histogram": [
           {
            "marker": {
             "pattern": {
              "fillmode": "overlay",
              "size": 10,
              "solidity": 0.2
             }
            },
            "type": "histogram"
           }
          ],
          "histogram2d": [
           {
            "colorbar": {
             "outlinewidth": 0,
             "ticks": ""
            },
            "colorscale": [
             [
              0,
              "#0d0887"
             ],
             [
              0.1111111111111111,
              "#46039f"
             ],
             [
              0.2222222222222222,
              "#7201a8"
             ],
             [
              0.3333333333333333,
              "#9c179e"
             ],
             [
              0.4444444444444444,
              "#bd3786"
             ],
             [
              0.5555555555555556,
              "#d8576b"
             ],
             [
              0.6666666666666666,
              "#ed7953"
             ],
             [
              0.7777777777777778,
              "#fb9f3a"
             ],
             [
              0.8888888888888888,
              "#fdca26"
             ],
             [
              1,
              "#f0f921"
             ]
            ],
            "type": "histogram2d"
           }
          ],
          "histogram2dcontour": [
           {
            "colorbar": {
             "outlinewidth": 0,
             "ticks": ""
            },
            "colorscale": [
             [
              0,
              "#0d0887"
             ],
             [
              0.1111111111111111,
              "#46039f"
             ],
             [
              0.2222222222222222,
              "#7201a8"
             ],
             [
              0.3333333333333333,
              "#9c179e"
             ],
             [
              0.4444444444444444,
              "#bd3786"
             ],
             [
              0.5555555555555556,
              "#d8576b"
             ],
             [
              0.6666666666666666,
              "#ed7953"
             ],
             [
              0.7777777777777778,
              "#fb9f3a"
             ],
             [
              0.8888888888888888,
              "#fdca26"
             ],
             [
              1,
              "#f0f921"
             ]
            ],
            "type": "histogram2dcontour"
           }
          ],
          "mesh3d": [
           {
            "colorbar": {
             "outlinewidth": 0,
             "ticks": ""
            },
            "type": "mesh3d"
           }
          ],
          "parcoords": [
           {
            "line": {
             "colorbar": {
              "outlinewidth": 0,
              "ticks": ""
             }
            },
            "type": "parcoords"
           }
          ],
          "pie": [
           {
            "automargin": true,
            "type": "pie"
           }
          ],
          "scatter": [
           {
            "fillpattern": {
             "fillmode": "overlay",
             "size": 10,
             "solidity": 0.2
            },
            "type": "scatter"
           }
          ],
          "scatter3d": [
           {
            "line": {
             "colorbar": {
              "outlinewidth": 0,
              "ticks": ""
             }
            },
            "marker": {
             "colorbar": {
              "outlinewidth": 0,
              "ticks": ""
             }
            },
            "type": "scatter3d"
           }
          ],
          "scattercarpet": [
           {
            "marker": {
             "colorbar": {
              "outlinewidth": 0,
              "ticks": ""
             }
            },
            "type": "scattercarpet"
           }
          ],
          "scattergeo": [
           {
            "marker": {
             "colorbar": {
              "outlinewidth": 0,
              "ticks": ""
             }
            },
            "type": "scattergeo"
           }
          ],
          "scattergl": [
           {
            "marker": {
             "colorbar": {
              "outlinewidth": 0,
              "ticks": ""
             }
            },
            "type": "scattergl"
           }
          ],
          "scattermapbox": [
           {
            "marker": {
             "colorbar": {
              "outlinewidth": 0,
              "ticks": ""
             }
            },
            "type": "scattermapbox"
           }
          ],
          "scatterpolar": [
           {
            "marker": {
             "colorbar": {
              "outlinewidth": 0,
              "ticks": ""
             }
            },
            "type": "scatterpolar"
           }
          ],
          "scatterpolargl": [
           {
            "marker": {
             "colorbar": {
              "outlinewidth": 0,
              "ticks": ""
             }
            },
            "type": "scatterpolargl"
           }
          ],
          "scatterternary": [
           {
            "marker": {
             "colorbar": {
              "outlinewidth": 0,
              "ticks": ""
             }
            },
            "type": "scatterternary"
           }
          ],
          "surface": [
           {
            "colorbar": {
             "outlinewidth": 0,
             "ticks": ""
            },
            "colorscale": [
             [
              0,
              "#0d0887"
             ],
             [
              0.1111111111111111,
              "#46039f"
             ],
             [
              0.2222222222222222,
              "#7201a8"
             ],
             [
              0.3333333333333333,
              "#9c179e"
             ],
             [
              0.4444444444444444,
              "#bd3786"
             ],
             [
              0.5555555555555556,
              "#d8576b"
             ],
             [
              0.6666666666666666,
              "#ed7953"
             ],
             [
              0.7777777777777778,
              "#fb9f3a"
             ],
             [
              0.8888888888888888,
              "#fdca26"
             ],
             [
              1,
              "#f0f921"
             ]
            ],
            "type": "surface"
           }
          ],
          "table": [
           {
            "cells": {
             "fill": {
              "color": "#EBF0F8"
             },
             "line": {
              "color": "white"
             }
            },
            "header": {
             "fill": {
              "color": "#C8D4E3"
             },
             "line": {
              "color": "white"
             }
            },
            "type": "table"
           }
          ]
         },
         "layout": {
          "annotationdefaults": {
           "arrowcolor": "#2a3f5f",
           "arrowhead": 0,
           "arrowwidth": 1
          },
          "autotypenumbers": "strict",
          "coloraxis": {
           "colorbar": {
            "outlinewidth": 0,
            "ticks": ""
           }
          },
          "colorscale": {
           "diverging": [
            [
             0,
             "#8e0152"
            ],
            [
             0.1,
             "#c51b7d"
            ],
            [
             0.2,
             "#de77ae"
            ],
            [
             0.3,
             "#f1b6da"
            ],
            [
             0.4,
             "#fde0ef"
            ],
            [
             0.5,
             "#f7f7f7"
            ],
            [
             0.6,
             "#e6f5d0"
            ],
            [
             0.7,
             "#b8e186"
            ],
            [
             0.8,
             "#7fbc41"
            ],
            [
             0.9,
             "#4d9221"
            ],
            [
             1,
             "#276419"
            ]
           ],
           "sequential": [
            [
             0,
             "#0d0887"
            ],
            [
             0.1111111111111111,
             "#46039f"
            ],
            [
             0.2222222222222222,
             "#7201a8"
            ],
            [
             0.3333333333333333,
             "#9c179e"
            ],
            [
             0.4444444444444444,
             "#bd3786"
            ],
            [
             0.5555555555555556,
             "#d8576b"
            ],
            [
             0.6666666666666666,
             "#ed7953"
            ],
            [
             0.7777777777777778,
             "#fb9f3a"
            ],
            [
             0.8888888888888888,
             "#fdca26"
            ],
            [
             1,
             "#f0f921"
            ]
           ],
           "sequentialminus": [
            [
             0,
             "#0d0887"
            ],
            [
             0.1111111111111111,
             "#46039f"
            ],
            [
             0.2222222222222222,
             "#7201a8"
            ],
            [
             0.3333333333333333,
             "#9c179e"
            ],
            [
             0.4444444444444444,
             "#bd3786"
            ],
            [
             0.5555555555555556,
             "#d8576b"
            ],
            [
             0.6666666666666666,
             "#ed7953"
            ],
            [
             0.7777777777777778,
             "#fb9f3a"
            ],
            [
             0.8888888888888888,
             "#fdca26"
            ],
            [
             1,
             "#f0f921"
            ]
           ]
          },
          "colorway": [
           "#636efa",
           "#EF553B",
           "#00cc96",
           "#ab63fa",
           "#FFA15A",
           "#19d3f3",
           "#FF6692",
           "#B6E880",
           "#FF97FF",
           "#FECB52"
          ],
          "font": {
           "color": "#2a3f5f"
          },
          "geo": {
           "bgcolor": "white",
           "lakecolor": "white",
           "landcolor": "#E5ECF6",
           "showlakes": true,
           "showland": true,
           "subunitcolor": "white"
          },
          "hoverlabel": {
           "align": "left"
          },
          "hovermode": "closest",
          "mapbox": {
           "style": "light"
          },
          "paper_bgcolor": "white",
          "plot_bgcolor": "#E5ECF6",
          "polar": {
           "angularaxis": {
            "gridcolor": "white",
            "linecolor": "white",
            "ticks": ""
           },
           "bgcolor": "#E5ECF6",
           "radialaxis": {
            "gridcolor": "white",
            "linecolor": "white",
            "ticks": ""
           }
          },
          "scene": {
           "xaxis": {
            "backgroundcolor": "#E5ECF6",
            "gridcolor": "white",
            "gridwidth": 2,
            "linecolor": "white",
            "showbackground": true,
            "ticks": "",
            "zerolinecolor": "white"
           },
           "yaxis": {
            "backgroundcolor": "#E5ECF6",
            "gridcolor": "white",
            "gridwidth": 2,
            "linecolor": "white",
            "showbackground": true,
            "ticks": "",
            "zerolinecolor": "white"
           },
           "zaxis": {
            "backgroundcolor": "#E5ECF6",
            "gridcolor": "white",
            "gridwidth": 2,
            "linecolor": "white",
            "showbackground": true,
            "ticks": "",
            "zerolinecolor": "white"
           }
          },
          "shapedefaults": {
           "line": {
            "color": "#2a3f5f"
           }
          },
          "ternary": {
           "aaxis": {
            "gridcolor": "white",
            "linecolor": "white",
            "ticks": ""
           },
           "baxis": {
            "gridcolor": "white",
            "linecolor": "white",
            "ticks": ""
           },
           "bgcolor": "#E5ECF6",
           "caxis": {
            "gridcolor": "white",
            "linecolor": "white",
            "ticks": ""
           }
          },
          "title": {
           "x": 0.05
          },
          "xaxis": {
           "automargin": true,
           "gridcolor": "white",
           "linecolor": "white",
           "ticks": "",
           "title": {
            "standoff": 15
           },
           "zerolinecolor": "white",
           "zerolinewidth": 2
          },
          "yaxis": {
           "automargin": true,
           "gridcolor": "white",
           "linecolor": "white",
           "ticks": "",
           "title": {
            "standoff": 15
           },
           "zerolinecolor": "white",
           "zerolinewidth": 2
          }
         }
        },
        "title": {
         "font": {
          "size": 24
         },
         "text": "Clasificación de contaminantes en Bogotá 2020",
         "x": 0.08,
         "y": 0.15
        },
        "width": 900
       }
      }
     },
     "metadata": {},
     "output_type": "display_data"
    }
   ],
   "source": [
    "# graficamos el mapa con los datos\n",
    "mapear_plotly(estaciones_2020, clasificacion_2020, 2020)"
   ]
  },
  {
   "attachments": {},
   "cell_type": "markdown",
   "metadata": {},
   "source": [
    "### Análisis de la distribución de $PM_{2.5}/PM_{10}$ en cada estación en 2021"
   ]
  },
  {
   "cell_type": "code",
   "execution_count": 64,
   "metadata": {},
   "outputs": [
    {
     "data": {
      "image/png": "[encoded data removed]",
      "text/plain": [
       "<Figure size 1700x1200 with 16 Axes>"
      ]
     },
     "metadata": {},
     "output_type": "display_data"
    }
   ],
   "source": [
    "# graficamos los histogramas de los datos de 2021\n",
    "graficar_histogramas(datos_2021, estaciones_2021, 2021)"
   ]
  },
  {
   "cell_type": "code",
   "execution_count": 65,
   "metadata": {},
   "outputs": [
    {
     "name": "stdout",
     "output_type": "stream",
     "text": [
      "Clasificaciones:\n",
      "BOL: Atypical Dust type (Ib)\n",
      "CBV: Typical Mixed type (IIa)\n",
      "CDAR: Atypical Anthropogenic type (IIIb)\n",
      "CSE: Typical Mixed type (IIa)\n",
      "FTB: Mixed-Anthropogenic type (IIb1)\n",
      "GYR: Mixed-Anthropogenic type (IIb1)\n",
      "JAZ: Mixed-Anthropogenic type (IIb1)\n",
      "KEN: Mixed-Anthropogenic type (IIb1)\n",
      "LFR: Mixed-Dust type (IIb2)\n",
      "MAM: Atypical Anthropogenic type (IIIb)\n",
      "MOV1: Mixed-Anthropogenic type (IIb1)\n",
      "SUB: Atypical Dust type (Ib)\n",
      "TUN: Typical Dust type (Ia)\n",
      "USM: Typical Dust type (Ia)\n"
     ]
    }
   ],
   "source": [
    "# clasificamos los datos de 2021\n",
    "clasificacion_2021 = clasificacion_set(datos_2021, estaciones_2021)"
   ]
  },
  {
   "cell_type": "code",
   "execution_count": 66,
   "metadata": {},
   "outputs": [
    {
     "data": {
      "application/vnd.plotly.v1+json": {
       "config": {
        "plotlyServerURL": "https://plot.ly"
       },
       "data": [
        {
         "lat": [
          4.735805555555555,
          4.577805555555555,
          4.658466666666667,
          4.595833333333333,
          4.678241666666667,
          4.7837499999999995,
          4.608499999999999,
          4.625050000000001,
          4.6907000000000005,
          4.625486111111112,
          4.645194444444444,
          4.761247222222222,
          4.576225,
          4.532055555555555
         ],
         "lon": [
          -74.12588888888888,
          -74.16627777777778,
          -74.08396666666667,
          -74.14850000000001,
          -74.14381944444445,
          -74.04413888888888,
          -74.11494444444443,
          -74.16133333333335,
          -74.08248333333333,
          -74.06698055555555,
          -74.06155555555556,
          -74.09346111111111,
          -74.13095555555554,
          -74.11713888888889
         ],
         "marker": {
          "color": [
           "chocolate",
           "black",
           "#ff4c4c",
           "black",
           "midnightblue",
           "midnightblue",
           "midnightblue",
           "midnightblue",
           "mediumpurple",
           "#ff4c4c",
           "midnightblue",
           "chocolate",
           "saddlebrown",
           "saddlebrown"
          ],
          "size": 15
         },
         "mode": "markers",
         "showlegend": false,
         "text": [
          "BOL: Atypical Dust type (Ib)",
          "CBV: Typical Mixed type (IIa)",
          "CDAR: Atypical Anthropogenic type (IIIb)",
          "CSE: Typical Mixed type (IIa)",
          "FTB: Mixed-Anthropogenic type (IIb1)",
          "GYR: Mixed-Anthropogenic type (IIb1)",
          "JAZ: Mixed-Anthropogenic type (IIb1)",
          "KEN: Mixed-Anthropogenic type (IIb1)",
          "LFR: Mixed-Dust type (IIb2)",
          "MAM: Atypical Anthropogenic type (IIIb)",
          "MOV1: Mixed-Anthropogenic type (IIb1)",
          "SUB: Atypical Dust type (Ib)",
          "TUN: Typical Dust type (Ia)",
          "USM: Typical Dust type (Ia)"
         ],
         "type": "scattermapbox"
        },
        {
         "lat": [
          4.7
         ],
         "lon": [
          -70
         ],
         "marker": {
          "color": "saddlebrown",
          "size": 10
         },
         "mode": "markers",
         "name": "Typical Dust type (Ia)",
         "type": "scattermapbox"
        },
        {
         "lat": [
          4.7
         ],
         "lon": [
          -70
         ],
         "marker": {
          "color": "chocolate",
          "size": 10
         },
         "mode": "markers",
         "name": "Atypical Dust type (Ib)",
         "type": "scattermapbox"
        },
        {
         "lat": [
          4.7
         ],
         "lon": [
          -70
         ],
         "marker": {
          "color": "black",
          "size": 10
         },
         "mode": "markers",
         "name": "Typical Mixed type (IIa)",
         "type": "scattermapbox"
        },
        {
         "lat": [
          4.7
         ],
         "lon": [
          -70
         ],
         "marker": {
          "color": "midnightblue",
          "size": 10
         },
         "mode": "markers",
         "name": "Mixed-Anthropogenic type (IIb1)",
         "type": "scattermapbox"
        },
        {
         "lat": [
          4.7
         ],
         "lon": [
          -70
         ],
         "marker": {
          "color": "mediumpurple",
          "size": 10
         },
         "mode": "markers",
         "name": "Mixed-Dust type (IIb2)",
         "type": "scattermapbox"
        },
        {
         "lat": [
          4.7
         ],
         "lon": [
          -70
         ],
         "marker": {
          "color": "#e40000",
          "size": 10
         },
         "mode": "markers",
         "name": "Typical Anthropogenic type (IIIa)",
         "type": "scattermapbox"
        },
        {
         "lat": [
          4.7
         ],
         "lon": [
          -70
         ],
         "marker": {
          "color": "#ff4c4c",
          "size": 10
         },
         "mode": "markers",
         "name": "Atypical Anthropogenic type (IIIb)",
         "type": "scattermapbox"
        }
       ],
       "layout": {
        "height": 800,
        "legend": {
         "font": {
          "size": 15
         },
         "orientation": "h",
         "title": {
          "font": {
           "size": 20
          },
          "text": "Clasificaciones"
         },
         "x": 0.08
        },
        "mapbox": {
         "center": {
          "lat": 4.65,
          "lon": -74.1
         },
         "style": "stamen-terrain",
         "zoom": 10.4
        },
        "margin": {
         "b": 0,
         "l": 0,
         "r": 0,
         "t": 0
        },
        "showlegend": true,
        "template": {
         "data": {
          "bar": [
           {
            "error_x": {
             "color": "#2a3f5f"
            },
            "error_y": {
             "color": "#2a3f5f"
            },
            "marker": {
             "line": {
              "color": "#E5ECF6",
              "width": 0.5
             },
             "pattern": {
              "fillmode": "overlay",
              "size": 10,
              "solidity": 0.2
             }
            },
            "type": "bar"
           }
          ],
          "barpolar": [
           {
            "marker": {
             "line": {
              "color": "#E5ECF6",
              "width": 0.5
             },
             "pattern": {
              "fillmode": "overlay",
              "size": 10,
              "solidity": 0.2
             }
            },
            "type": "barpolar"
           }
          ],
          "carpet": [
           {
            "aaxis": {
             "endlinecolor": "#2a3f5f",
             "gridcolor": "white",
             "linecolor": "white",
             "minorgridcolor": "white",
             "startlinecolor": "#2a3f5f"
            },
            "baxis": {
             "endlinecolor": "#2a3f5f",
             "gridcolor": "white",
             "linecolor": "white",
             "minorgridcolor": "white",
             "startlinecolor": "#2a3f5f"
            },
            "type": "carpet"
           }
          ],
          "choropleth": [
           {
            "colorbar": {
             "outlinewidth": 0,
             "ticks": ""
            },
            "type": "choropleth"
           }
          ],
          "contour": [
           {
            "colorbar": {
             "outlinewidth": 0,
             "ticks": ""
            },
            "colorscale": [
             [
              0,
              "#0d0887"
             ],
             [
              0.1111111111111111,
              "#46039f"
             ],
             [
              0.2222222222222222,
              "#7201a8"
             ],
             [
              0.3333333333333333,
              "#9c179e"
             ],
             [
              0.4444444444444444,
              "#bd3786"
             ],
             [
              0.5555555555555556,
              "#d8576b"
             ],
             [
              0.6666666666666666,
              "#ed7953"
             ],
             [
              0.7777777777777778,
              "#fb9f3a"
             ],
             [
              0.8888888888888888,
              "#fdca26"
             ],
             [
              1,
              "#f0f921"
             ]
            ],
            "type": "contour"
           }
          ],
          "contourcarpet": [
           {
            "colorbar": {
             "outlinewidth": 0,
             "ticks": ""
            },
            "type": "contourcarpet"
           }
          ],
          "heatmap": [
           {
            "colorbar": {
             "outlinewidth": 0,
             "ticks": ""
            },
            "colorscale": [
             [
              0,
              "#0d0887"
             ],
             [
              0.1111111111111111,
              "#46039f"
             ],
             [
              0.2222222222222222,
              "#7201a8"
             ],
             [
              0.3333333333333333,
              "#9c179e"
             ],
             [
              0.4444444444444444,
              "#bd3786"
             ],
             [
              0.5555555555555556,
              "#d8576b"
             ],
             [
              0.6666666666666666,
              "#ed7953"
             ],
             [
              0.7777777777777778,
              "#fb9f3a"
             ],
             [
              0.8888888888888888,
              "#fdca26"
             ],
             [
              1,
              "#f0f921"
             ]
            ],
            "type": "heatmap"
           }
          ],
          "heatmapgl": [
           {
            "colorbar": {
             "outlinewidth": 0,
             "ticks": ""
            },
            "colorscale": [
             [
              0,
              "#0d0887"
             ],
             [
              0.1111111111111111,
              "#46039f"
             ],
             [
              0.2222222222222222,
              "#7201a8"
             ],
             [
              0.3333333333333333,
              "#9c179e"
             ],
             [
              0.4444444444444444,
              "#bd3786"
             ],
             [
              0.5555555555555556,
              "#d8576b"
             ],
             [
              0.6666666666666666,
              "#ed7953"
             ],
             [
              0.7777777777777778,
              "#fb9f3a"
             ],
             [
              0.8888888888888888,
              "#fdca26"
             ],
             [
              1,
              "#f0f921"
             ]
            ],
            "type": "heatmapgl"
           }
          ],
          "histogram": [
           {
            "marker": {
             "pattern": {
              "fillmode": "overlay",
              "size": 10,
              "solidity": 0.2
             }
            },
            "type": "histogram"
           }
          ],
          "histogram2d": [
           {
            "colorbar": {
             "outlinewidth": 0,
             "ticks": ""
            },
            "colorscale": [
             [
              0,
              "#0d0887"
             ],
             [
              0.1111111111111111,
              "#46039f"
             ],
             [
              0.2222222222222222,
              "#7201a8"
             ],
             [
              0.3333333333333333,
              "#9c179e"
             ],
             [
              0.4444444444444444,
              "#bd3786"
             ],
             [
              0.5555555555555556,
              "#d8576b"
             ],
             [
              0.6666666666666666,
              "#ed7953"
             ],
             [
              0.7777777777777778,
              "#fb9f3a"
             ],
             [
              0.8888888888888888,
              "#fdca26"
             ],
             [
              1,
              "#f0f921"
             ]
            ],
            "type": "histogram2d"
           }
          ],
          "histogram2dcontour": [
           {
            "colorbar": {
             "outlinewidth": 0,
             "ticks": ""
            },
            "colorscale": [
             [
              0,
              "#0d0887"
             ],
             [
              0.1111111111111111,
              "#46039f"
             ],
             [
              0.2222222222222222,
              "#7201a8"
             ],
             [
              0.3333333333333333,
              "#9c179e"
             ],
             [
              0.4444444444444444,
              "#bd3786"
             ],
             [
              0.5555555555555556,
              "#d8576b"
             ],
             [
              0.6666666666666666,
              "#ed7953"
             ],
             [
              0.7777777777777778,
              "#fb9f3a"
             ],
             [
              0.8888888888888888,
              "#fdca26"
             ],
             [
              1,
              "#f0f921"
             ]
            ],
            "type": "histogram2dcontour"
           }
          ],
          "mesh3d": [
           {
            "colorbar": {
             "outlinewidth": 0,
             "ticks": ""
            },
            "type": "mesh3d"
           }
          ],
          "parcoords": [
           {
            "line": {
             "colorbar": {
              "outlinewidth": 0,
              "ticks": ""
             }
            },
            "type": "parcoords"
           }
          ],
          "pie": [
           {
            "automargin": true,
            "type": "pie"
           }
          ],
          "scatter": [
           {
            "fillpattern": {
             "fillmode": "overlay",
             "size": 10,
             "solidity": 0.2
            },
            "type": "scatter"
           }
          ],
          "scatter3d": [
           {
            "line": {
             "colorbar": {
              "outlinewidth": 0,
              "ticks": ""
             }
            },
            "marker": {
             "colorbar": {
              "outlinewidth": 0,
              "ticks": ""
             }
            },
            "type": "scatter3d"
           }
          ],
          "scattercarpet": [
           {
            "marker": {
             "colorbar": {
              "outlinewidth": 0,
              "ticks": ""
             }
            },
            "type": "scattercarpet"
           }
          ],
          "scattergeo": [
           {
            "marker": {
             "colorbar": {
              "outlinewidth": 0,
              "ticks": ""
             }
            },
            "type": "scattergeo"
           }
          ],
          "scattergl": [
           {
            "marker": {
             "colorbar": {
              "outlinewidth": 0,
              "ticks": ""
             }
            },
            "type": "scattergl"
           }
          ],
          "scattermapbox": [
           {
            "marker": {
             "colorbar": {
              "outlinewidth": 0,
              "ticks": ""
             }
            },
            "type": "scattermapbox"
           }
          ],
          "scatterpolar": [
           {
            "marker": {
             "colorbar": {
              "outlinewidth": 0,
              "ticks": ""
             }
            },
            "type": "scatterpolar"
           }
          ],
          "scatterpolargl": [
           {
            "marker": {
             "colorbar": {
              "outlinewidth": 0,
              "ticks": ""
             }
            },
            "type": "scatterpolargl"
           }
          ],
          "scatterternary": [
           {
            "marker": {
             "colorbar": {
              "outlinewidth": 0,
              "ticks": ""
             }
            },
            "type": "scatterternary"
           }
          ],
          "surface": [
           {
            "colorbar": {
             "outlinewidth": 0,
             "ticks": ""
            },
            "colorscale": [
             [
              0,
              "#0d0887"
             ],
             [
              0.1111111111111111,
              "#46039f"
             ],
             [
              0.2222222222222222,
              "#7201a8"
             ],
             [
              0.3333333333333333,
              "#9c179e"
             ],
             [
              0.4444444444444444,
              "#bd3786"
             ],
             [
              0.5555555555555556,
              "#d8576b"
             ],
             [
              0.6666666666666666,
              "#ed7953"
             ],
             [
              0.7777777777777778,
              "#fb9f3a"
             ],
             [
              0.8888888888888888,
              "#fdca26"
             ],
             [
              1,
              "#f0f921"
             ]
            ],
            "type": "surface"
           }
          ],
          "table": [
           {
            "cells": {
             "fill": {
              "color": "#EBF0F8"
             },
             "line": {
              "color": "white"
             }
            },
            "header": {
             "fill": {
              "color": "#C8D4E3"
             },
             "line": {
              "color": "white"
             }
            },
            "type": "table"
           }
          ]
         },
         "layout": {
          "annotationdefaults": {
           "arrowcolor": "#2a3f5f",
           "arrowhead": 0,
           "arrowwidth": 1
          },
          "autotypenumbers": "strict",
          "coloraxis": {
           "colorbar": {
            "outlinewidth": 0,
            "ticks": ""
           }
          },
          "colorscale": {
           "diverging": [
            [
             0,
             "#8e0152"
            ],
            [
             0.1,
             "#c51b7d"
            ],
            [
             0.2,
             "#de77ae"
            ],
            [
             0.3,
             "#f1b6da"
            ],
            [
             0.4,
             "#fde0ef"
            ],
            [
             0.5,
             "#f7f7f7"
            ],
            [
             0.6,
             "#e6f5d0"
            ],
            [
             0.7,
             "#b8e186"
            ],
            [
             0.8,
             "#7fbc41"
            ],
            [
             0.9,
             "#4d9221"
            ],
            [
             1,
             "#276419"
            ]
           ],
           "sequential": [
            [
             0,
             "#0d0887"
            ],
            [
             0.1111111111111111,
             "#46039f"
            ],
            [
             0.2222222222222222,
             "#7201a8"
            ],
            [
             0.3333333333333333,
             "#9c179e"
            ],
            [
             0.4444444444444444,
             "#bd3786"
            ],
            [
             0.5555555555555556,
             "#d8576b"
            ],
            [
             0.6666666666666666,
             "#ed7953"
            ],
            [
             0.7777777777777778,
             "#fb9f3a"
            ],
            [
             0.8888888888888888,
             "#fdca26"
            ],
            [
             1,
             "#f0f921"
            ]
           ],
           "sequentialminus": [
            [
             0,
             "#0d0887"
            ],
            [
             0.1111111111111111,
             "#46039f"
            ],
            [
             0.2222222222222222,
             "#7201a8"
            ],
            [
             0.3333333333333333,
             "#9c179e"
            ],
            [
             0.4444444444444444,
             "#bd3786"
            ],
            [
             0.5555555555555556,
             "#d8576b"
            ],
            [
             0.6666666666666666,
             "#ed7953"
            ],
            [
             0.7777777777777778,
             "#fb9f3a"
            ],
            [
             0.8888888888888888,
             "#fdca26"
            ],
            [
             1,
             "#f0f921"
            ]
           ]
          },
          "colorway": [
           "#636efa",
           "#EF553B",
           "#00cc96",
           "#ab63fa",
           "#FFA15A",
           "#19d3f3",
           "#FF6692",
           "#B6E880",
           "#FF97FF",
           "#FECB52"
          ],
          "font": {
           "color": "#2a3f5f"
          },
          "geo": {
           "bgcolor": "white",
           "lakecolor": "white",
           "landcolor": "#E5ECF6",
           "showlakes": true,
           "showland": true,
           "subunitcolor": "white"
          },
          "hoverlabel": {
           "align": "left"
          },
          "hovermode": "closest",
          "mapbox": {
           "style": "light"
          },
          "paper_bgcolor": "white",
          "plot_bgcolor": "#E5ECF6",
          "polar": {
           "angularaxis": {
            "gridcolor": "white",
            "linecolor": "white",
            "ticks": ""
           },
           "bgcolor": "#E5ECF6",
           "radialaxis": {
            "gridcolor": "white",
            "linecolor": "white",
            "ticks": ""
           }
          },
          "scene": {
           "xaxis": {
            "backgroundcolor": "#E5ECF6",
            "gridcolor": "white",
            "gridwidth": 2,
            "linecolor": "white",
            "showbackground": true,
            "ticks": "",
            "zerolinecolor": "white"
           },
           "yaxis": {
            "backgroundcolor": "#E5ECF6",
            "gridcolor": "white",
            "gridwidth": 2,
            "linecolor": "white",
            "showbackground": true,
            "ticks": "",
            "zerolinecolor": "white"
           },
           "zaxis": {
            "backgroundcolor": "#E5ECF6",
            "gridcolor": "white",
            "gridwidth": 2,
            "linecolor": "white",
            "showbackground": true,
            "ticks": "",
            "zerolinecolor": "white"
           }
          },
          "shapedefaults": {
           "line": {
            "color": "#2a3f5f"
           }
          },
          "ternary": {
           "aaxis": {
            "gridcolor": "white",
            "linecolor": "white",
            "ticks": ""
           },
           "baxis": {
            "gridcolor": "white",
            "linecolor": "white",
            "ticks": ""
           },
           "bgcolor": "#E5ECF6",
           "caxis": {
            "gridcolor": "white",
            "linecolor": "white",
            "ticks": ""
           }
          },
          "title": {
           "x": 0.05
          },
          "xaxis": {
           "automargin": true,
           "gridcolor": "white",
           "linecolor": "white",
           "ticks": "",
           "title": {
            "standoff": 15
           },
           "zerolinecolor": "white",
           "zerolinewidth": 2
          },
          "yaxis": {
           "automargin": true,
           "gridcolor": "white",
           "linecolor": "white",
           "ticks": "",
           "title": {
            "standoff": 15
           },
           "zerolinecolor": "white",
           "zerolinewidth": 2
          }
         }
        },
        "title": {
         "font": {
          "size": 24
         },
         "text": "Clasificación de contaminantes en Bogotá 2021",
         "x": 0.08,
         "y": 0.15
        },
        "width": 900
       }
      }
     },
     "metadata": {},
     "output_type": "display_data"
    }
   ],
   "source": [
    "# graficamos el mapa con los datos\n",
    "mapear_plotly(estaciones_2021, clasificacion_2021, 2021)"
   ]
  },
  {
   "attachments": {},
   "cell_type": "markdown",
   "metadata": {},
   "source": [
    "### Análisis de la distribución de $PM_{2.5}/PM_{10}$ en cada estación en 2022"
   ]
  },
  {
   "cell_type": "code",
   "execution_count": 69,
   "metadata": {},
   "outputs": [
    {
     "data": {
      "image/png": "[encoded data removed]",
      "text/plain": [
       "<Figure size 1700x1200 with 16 Axes>"
      ]
     },
     "metadata": {},
     "output_type": "display_data"
    }
   ],
   "source": [
    "# graficamos los histogramas de los datos de 2022\n",
    "graficar_histogramas(datos_2022, estaciones_2022, 2022)"
   ]
  },
  {
   "cell_type": "code",
   "execution_count": 70,
   "metadata": {},
   "outputs": [
    {
     "name": "stdout",
     "output_type": "stream",
     "text": [
      "Clasificaciones:\n",
      "BOL: Mixed-Anthropogenic type (IIb1)\n",
      "CBV: Typical Dust type (Ia)\n",
      "CDAR: Mixed-Dust type (IIb2)\n",
      "COL: Atypical Dust type (Ib)\n",
      "FTB: Mixed-Anthropogenic type (IIb1)\n",
      "GYR: Mixed-Dust type (IIb2)\n",
      "JAZ: Mixed-Anthropogenic type (IIb1)\n",
      "KEN: Mixed-Anthropogenic type (IIb1)\n",
      "LFR: Mixed-Anthropogenic type (IIb1)\n",
      "MAM: Mixed-Dust type (IIb2)\n",
      "MOV2: Atypical Dust type (Ib)\n",
      "SCR: Mixed-Dust type (IIb2)\n",
      "SUB: Mixed-Anthropogenic type (IIb1)\n",
      "TUN: Mixed-Anthropogenic type (IIb1)\n",
      "USM: Typical Dust type (Ia)\n",
      "USQ: Mixed-Dust type (IIb2)\n"
     ]
    }
   ],
   "source": [
    "# clasificamos los datos de 2022\n",
    "clasificacion_2022 = clasificacion_set(datos_2022, estaciones_2022)"
   ]
  },
  {
   "cell_type": "code",
   "execution_count": 71,
   "metadata": {},
   "outputs": [
    {
     "data": {
      "application/vnd.plotly.v1+json": {
       "config": {
        "plotlyServerURL": "https://plot.ly"
       },
       "data": [
        {
         "lat": [
          4.735805555555555,
          4.577805555555555,
          4.658466666666667,
          4.7371944444444445,
          4.678241666666667,
          4.7837499999999995,
          4.608499999999999,
          4.625050000000001,
          4.6907000000000005,
          4.625486111111112,
          4.668,
          4.572552777777777,
          4.761247222222222,
          4.576225,
          4.532055555555555,
          4.71035
         ],
         "lon": [
          -74.12588888888888,
          -74.16627777777778,
          -74.08396666666667,
          -74.06947222222222,
          -74.14381944444445,
          -74.04413888888888,
          -74.11494444444443,
          -74.16133333333335,
          -74.08248333333333,
          -74.06698055555555,
          -74.14850000000001,
          -74.08381388888888,
          -74.09346111111111,
          -74.13095555555554,
          -74.11713888888889,
          -74.03041666666667
         ],
         "marker": {
          "color": [
           "midnightblue",
           "saddlebrown",
           "mediumpurple",
           "chocolate",
           "midnightblue",
           "mediumpurple",
           "midnightblue",
           "midnightblue",
           "midnightblue",
           "mediumpurple",
           "chocolate",
           "mediumpurple",
           "midnightblue",
           "midnightblue",
           "saddlebrown",
           "mediumpurple"
          ],
          "size": 15
         },
         "mode": "markers",
         "showlegend": false,
         "text": [
          "BOL: Mixed-Anthropogenic type (IIb1)",
          "CBV: Typical Dust type (Ia)",
          "CDAR: Mixed-Dust type (IIb2)",
          "COL: Atypical Dust type (Ib)",
          "FTB: Mixed-Anthropogenic type (IIb1)",
          "GYR: Mixed-Dust type (IIb2)",
          "JAZ: Mixed-Anthropogenic type (IIb1)",
          "KEN: Mixed-Anthropogenic type (IIb1)",
          "LFR: Mixed-Anthropogenic type (IIb1)",
          "MAM: Mixed-Dust type (IIb2)",
          "MOV2: Atypical Dust type (Ib)",
          "SCR: Mixed-Dust type (IIb2)",
          "SUB: Mixed-Anthropogenic type (IIb1)",
          "TUN: Mixed-Anthropogenic type (IIb1)",
          "USM: Typical Dust type (Ia)",
          "USQ: Mixed-Dust type (IIb2)"
         ],
         "type": "scattermapbox"
        },
        {
         "lat": [
          4.7
         ],
         "lon": [
          -70
         ],
         "marker": {
          "color": "saddlebrown",
          "size": 10
         },
         "mode": "markers",
         "name": "Typical Dust type (Ia)",
         "type": "scattermapbox"
        },
        {
         "lat": [
          4.7
         ],
         "lon": [
          -70
         ],
         "marker": {
          "color": "chocolate",
          "size": 10
         },
         "mode": "markers",
         "name": "Atypical Dust type (Ib)",
         "type": "scattermapbox"
        },
        {
         "lat": [
          4.7
         ],
         "lon": [
          -70
         ],
         "marker": {
          "color": "black",
          "size": 10
         },
         "mode": "markers",
         "name": "Typical Mixed type (IIa)",
         "type": "scattermapbox"
        },
        {
         "lat": [
          4.7
         ],
         "lon": [
          -70
         ],
         "marker": {
          "color": "midnightblue",
          "size": 10
         },
         "mode": "markers",
         "name": "Mixed-Anthropogenic type (IIb1)",
         "type": "scattermapbox"
        },
        {
         "lat": [
          4.7
         ],
         "lon": [
          -70
         ],
         "marker": {
          "color": "mediumpurple",
          "size": 10
         },
         "mode": "markers",
         "name": "Mixed-Dust type (IIb2)",
         "type": "scattermapbox"
        },
        {
         "lat": [
          4.7
         ],
         "lon": [
          -70
         ],
         "marker": {
          "color": "#e40000",
          "size": 10
         },
         "mode": "markers",
         "name": "Typical Anthropogenic type (IIIa)",
         "type": "scattermapbox"
        },
        {
         "lat": [
          4.7
         ],
         "lon": [
          -70
         ],
         "marker": {
          "color": "#ff4c4c",
          "size": 10
         },
         "mode": "markers",
         "name": "Atypical Anthropogenic type (IIIb)",
         "type": "scattermapbox"
        }
       ],
       "layout": {
        "height": 800,
        "legend": {
         "font": {
          "size": 15
         },
         "orientation": "h",
         "title": {
          "font": {
           "size": 20
          },
          "text": "Clasificaciones"
         },
         "x": 0.08
        },
        "mapbox": {
         "center": {
          "lat": 4.65,
          "lon": -74.1
         },
         "style": "stamen-terrain",
         "zoom": 10.4
        },
        "margin": {
         "b": 0,
         "l": 0,
         "r": 0,
         "t": 0
        },
        "showlegend": true,
        "template": {
         "data": {
          "bar": [
           {
            "error_x": {
             "color": "#2a3f5f"
            },
            "error_y": {
             "color": "#2a3f5f"
            },
            "marker": {
             "line": {
              "color": "#E5ECF6",
              "width": 0.5
             },
             "pattern": {
              "fillmode": "overlay",
              "size": 10,
              "solidity": 0.2
             }
            },
            "type": "bar"
           }
          ],
          "barpolar": [
           {
            "marker": {
             "line": {
              "color": "#E5ECF6",
              "width": 0.5
             },
             "pattern": {
              "fillmode": "overlay",
              "size": 10,
              "solidity": 0.2
             }
            },
            "type": "barpolar"
           }
          ],
          "carpet": [
           {
            "aaxis": {
             "endlinecolor": "#2a3f5f",
             "gridcolor": "white",
             "linecolor": "white",
             "minorgridcolor": "white",
             "startlinecolor": "#2a3f5f"
            },
            "baxis": {
             "endlinecolor": "#2a3f5f",
             "gridcolor": "white",
             "linecolor": "white",
             "minorgridcolor": "white",
             "startlinecolor": "#2a3f5f"
            },
            "type": "carpet"
           }
          ],
          "choropleth": [
           {
            "colorbar": {
             "outlinewidth": 0,
             "ticks": ""
            },
            "type": "choropleth"
           }
          ],
          "contour": [
           {
            "colorbar": {
             "outlinewidth": 0,
             "ticks": ""
            },
            "colorscale": [
             [
              0,
              "#0d0887"
             ],
             [
              0.1111111111111111,
              "#46039f"
             ],
             [
              0.2222222222222222,
              "#7201a8"
             ],
             [
              0.3333333333333333,
              "#9c179e"
             ],
             [
              0.4444444444444444,
              "#bd3786"
             ],
             [
              0.5555555555555556,
              "#d8576b"
             ],
             [
              0.6666666666666666,
              "#ed7953"
             ],
             [
              0.7777777777777778,
              "#fb9f3a"
             ],
             [
              0.8888888888888888,
              "#fdca26"
             ],
             [
              1,
              "#f0f921"
             ]
            ],
            "type": "contour"
           }
          ],
          "contourcarpet": [
           {
            "colorbar": {
             "outlinewidth": 0,
             "ticks": ""
            },
            "type": "contourcarpet"
           }
          ],
          "heatmap": [
           {
            "colorbar": {
             "outlinewidth": 0,
             "ticks": ""
            },
            "colorscale": [
             [
              0,
              "#0d0887"
             ],
             [
              0.1111111111111111,
              "#46039f"
             ],
             [
              0.2222222222222222,
              "#7201a8"
             ],
             [
              0.3333333333333333,
              "#9c179e"
             ],
             [
              0.4444444444444444,
              "#bd3786"
             ],
             [
              0.5555555555555556,
              "#d8576b"
             ],
             [
              0.6666666666666666,
              "#ed7953"
             ],
             [
              0.7777777777777778,
              "#fb9f3a"
             ],
             [
              0.8888888888888888,
              "#fdca26"
             ],
             [
              1,
              "#f0f921"
             ]
            ],
            "type": "heatmap"
           }
          ],
          "heatmapgl": [
           {
            "colorbar": {
             "outlinewidth": 0,
             "ticks": ""
            },
            "colorscale": [
             [
              0,
              "#0d0887"
             ],
             [
              0.1111111111111111,
              "#46039f"
             ],
             [
              0.2222222222222222,
              "#7201a8"
             ],
             [
              0.3333333333333333,
              "#9c179e"
             ],
             [
              0.4444444444444444,
              "#bd3786"
             ],
             [
              0.5555555555555556,
              "#d8576b"
             ],
             [
              0.6666666666666666,
              "#ed7953"
             ],
             [
              0.7777777777777778,
              "#fb9f3a"
             ],
             [
              0.8888888888888888,
              "#fdca26"
             ],
             [
              1,
              "#f0f921"
             ]
            ],
            "type": "heatmapgl"
           }
          ],
          "histogram": [
           {
            "marker": {
             "pattern": {
              "fillmode": "overlay",
              "size": 10,
              "solidity": 0.2
             }
            },
            "type": "histogram"
           }
          ],
          "histogram2d": [
           {
            "colorbar": {
             "outlinewidth": 0,
             "ticks": ""
            },
            "colorscale": [
             [
              0,
              "#0d0887"
             ],
             [
              0.1111111111111111,
              "#46039f"
             ],
             [
              0.2222222222222222,
              "#7201a8"
             ],
             [
              0.3333333333333333,
              "#9c179e"
             ],
             [
              0.4444444444444444,
              "#bd3786"
             ],
             [
              0.5555555555555556,
              "#d8576b"
             ],
             [
              0.6666666666666666,
              "#ed7953"
             ],
             [
              0.7777777777777778,
              "#fb9f3a"
             ],
             [
              0.8888888888888888,
              "#fdca26"
             ],
             [
              1,
              "#f0f921"
             ]
            ],
            "type": "histogram2d"
           }
          ],
          "histogram2dcontour": [
           {
            "colorbar": {
             "outlinewidth": 0,
             "ticks": ""
            },
            "colorscale": [
             [
              0,
              "#0d0887"
             ],
             [
              0.1111111111111111,
              "#46039f"
             ],
             [
              0.2222222222222222,
              "#7201a8"
             ],
             [
              0.3333333333333333,
              "#9c179e"
             ],
             [
              0.4444444444444444,
              "#bd3786"
             ],
             [
              0.5555555555555556,
              "#d8576b"
             ],
             [
              0.6666666666666666,
              "#ed7953"
             ],
             [
              0.7777777777777778,
              "#fb9f3a"
             ],
             [
              0.8888888888888888,
              "#fdca26"
             ],
             [
              1,
              "#f0f921"
             ]
            ],
            "type": "histogram2dcontour"
           }
          ],
          "mesh3d": [
           {
            "colorbar": {
             "outlinewidth": 0,
             "ticks": ""
            },
            "type": "mesh3d"
           }
          ],
          "parcoords": [
           {
            "line": {
             "colorbar": {
              "outlinewidth": 0,
              "ticks": ""
             }
            },
            "type": "parcoords"
           }
          ],
          "pie": [
           {
            "automargin": true,
            "type": "pie"
           }
          ],
          "scatter": [
           {
            "fillpattern": {
             "fillmode": "overlay",
             "size": 10,
             "solidity": 0.2
            },
            "type": "scatter"
           }
          ],
          "scatter3d": [
           {
            "line": {
             "colorbar": {
              "outlinewidth": 0,
              "ticks": ""
             }
            },
            "marker": {
             "colorbar": {
              "outlinewidth": 0,
              "ticks": ""
             }
            },
            "type": "scatter3d"
           }
          ],
          "scattercarpet": [
           {
            "marker": {
             "colorbar": {
              "outlinewidth": 0,
              "ticks": ""
             }
            },
            "type": "scattercarpet"
           }
          ],
          "scattergeo": [
           {
            "marker": {
             "colorbar": {
              "outlinewidth": 0,
              "ticks": ""
             }
            },
            "type": "scattergeo"
           }
          ],
          "scattergl": [
           {
            "marker": {
             "colorbar": {
              "outlinewidth": 0,
              "ticks": ""
             }
            },
            "type": "scattergl"
           }
          ],
          "scattermapbox": [
           {
            "marker": {
             "colorbar": {
              "outlinewidth": 0,
              "ticks": ""
             }
            },
            "type": "scattermapbox"
           }
          ],
          "scatterpolar": [
           {
            "marker": {
             "colorbar": {
              "outlinewidth": 0,
              "ticks": ""
             }
            },
            "type": "scatterpolar"
           }
          ],
          "scatterpolargl": [
           {
            "marker": {
             "colorbar": {
              "outlinewidth": 0,
              "ticks": ""
             }
            },
            "type": "scatterpolargl"
           }
          ],
          "scatterternary": [
           {
            "marker": {
             "colorbar": {
              "outlinewidth": 0,
              "ticks": ""
             }
            },
            "type": "scatterternary"
           }
          ],
          "surface": [
           {
            "colorbar": {
             "outlinewidth": 0,
             "ticks": ""
            },
            "colorscale": [
             [
              0,
              "#0d0887"
             ],
             [
              0.1111111111111111,
              "#46039f"
             ],
             [
              0.2222222222222222,
              "#7201a8"
             ],
             [
              0.3333333333333333,
              "#9c179e"
             ],
             [
              0.4444444444444444,
              "#bd3786"
             ],
             [
              0.5555555555555556,
              "#d8576b"
             ],
             [
              0.6666666666666666,
              "#ed7953"
             ],
             [
              0.7777777777777778,
              "#fb9f3a"
             ],
             [
              0.8888888888888888,
              "#fdca26"
             ],
             [
              1,
              "#f0f921"
             ]
            ],
            "type": "surface"
           }
          ],
          "table": [
           {
            "cells": {
             "fill": {
              "color": "#EBF0F8"
             },
             "line": {
              "color": "white"
             }
            },
            "header": {
             "fill": {
              "color": "#C8D4E3"
             },
             "line": {
              "color": "white"
             }
            },
            "type": "table"
           }
          ]
         },
         "layout": {
          "annotationdefaults": {
           "arrowcolor": "#2a3f5f",
           "arrowhead": 0,
           "arrowwidth": 1
          },
          "autotypenumbers": "strict",
          "coloraxis": {
           "colorbar": {
            "outlinewidth": 0,
            "ticks": ""
           }
          },
          "colorscale": {
           "diverging": [
            [
             0,
             "#8e0152"
            ],
            [
             0.1,
             "#c51b7d"
            ],
            [
             0.2,
             "#de77ae"
            ],
            [
             0.3,
             "#f1b6da"
            ],
            [
             0.4,
             "#fde0ef"
            ],
            [
             0.5,
             "#f7f7f7"
            ],
            [
             0.6,
             "#e6f5d0"
            ],
            [
             0.7,
             "#b8e186"
            ],
            [
             0.8,
             "#7fbc41"
            ],
            [
             0.9,
             "#4d9221"
            ],
            [
             1,
             "#276419"
            ]
           ],
           "sequential": [
            [
             0,
             "#0d0887"
            ],
            [
             0.1111111111111111,
             "#46039f"
            ],
            [
             0.2222222222222222,
             "#7201a8"
            ],
            [
             0.3333333333333333,
             "#9c179e"
            ],
            [
             0.4444444444444444,
             "#bd3786"
            ],
            [
             0.5555555555555556,
             "#d8576b"
            ],
            [
             0.6666666666666666,
             "#ed7953"
            ],
            [
             0.7777777777777778,
             "#fb9f3a"
            ],
            [
             0.8888888888888888,
             "#fdca26"
            ],
            [
             1,
             "#f0f921"
            ]
           ],
           "sequentialminus": [
            [
             0,
             "#0d0887"
            ],
            [
             0.1111111111111111,
             "#46039f"
            ],
            [
             0.2222222222222222,
             "#7201a8"
            ],
            [
             0.3333333333333333,
             "#9c179e"
            ],
            [
             0.4444444444444444,
             "#bd3786"
            ],
            [
             0.5555555555555556,
             "#d8576b"
            ],
            [
             0.6666666666666666,
             "#ed7953"
            ],
            [
             0.7777777777777778,
             "#fb9f3a"
            ],
            [
             0.8888888888888888,
             "#fdca26"
            ],
            [
             1,
             "#f0f921"
            ]
           ]
          },
          "colorway": [
           "#636efa",
           "#EF553B",
           "#00cc96",
           "#ab63fa",
           "#FFA15A",
           "#19d3f3",
           "#FF6692",
           "#B6E880",
           "#FF97FF",
           "#FECB52"
          ],
          "font": {
           "color": "#2a3f5f"
          },
          "geo": {
           "bgcolor": "white",
           "lakecolor": "white",
           "landcolor": "#E5ECF6",
           "showlakes": true,
           "showland": true,
           "subunitcolor": "white"
          },
          "hoverlabel": {
           "align": "left"
          },
          "hovermode": "closest",
          "mapbox": {
           "style": "light"
          },
          "paper_bgcolor": "white",
          "plot_bgcolor": "#E5ECF6",
          "polar": {
           "angularaxis": {
            "gridcolor": "white",
            "linecolor": "white",
            "ticks": ""
           },
           "bgcolor": "#E5ECF6",
           "radialaxis": {
            "gridcolor": "white",
            "linecolor": "white",
            "ticks": ""
           }
          },
          "scene": {
           "xaxis": {
            "backgroundcolor": "#E5ECF6",
            "gridcolor": "white",
            "gridwidth": 2,
            "linecolor": "white",
            "showbackground": true,
            "ticks": "",
            "zerolinecolor": "white"
           },
           "yaxis": {
            "backgroundcolor": "#E5ECF6",
            "gridcolor": "white",
            "gridwidth": 2,
            "linecolor": "white",
            "showbackground": true,
            "ticks": "",
            "zerolinecolor": "white"
           },
           "zaxis": {
            "backgroundcolor": "#E5ECF6",
            "gridcolor": "white",
            "gridwidth": 2,
            "linecolor": "white",
            "showbackground": true,
            "ticks": "",
            "zerolinecolor": "white"
           }
          },
          "shapedefaults": {
           "line": {
            "color": "#2a3f5f"
           }
          },
          "ternary": {
           "aaxis": {
            "gridcolor": "white",
            "linecolor": "white",
            "ticks": ""
           },
           "baxis": {
            "gridcolor": "white",
            "linecolor": "white",
            "ticks": ""
           },
           "bgcolor": "#E5ECF6",
           "caxis": {
            "gridcolor": "white",
            "linecolor": "white",
            "ticks": ""
           }
          },
          "title": {
           "x": 0.05
          },
          "xaxis": {
           "automargin": true,
           "gridcolor": "white",
           "linecolor": "white",
           "ticks": "",
           "title": {
            "standoff": 15
           },
           "zerolinecolor": "white",
           "zerolinewidth": 2
          },
          "yaxis": {
           "automargin": true,
           "gridcolor": "white",
           "linecolor": "white",
           "ticks": "",
           "title": {
            "standoff": 15
           },
           "zerolinecolor": "white",
           "zerolinewidth": 2
          }
         }
        },
        "title": {
         "font": {
          "size": 24
         },
         "text": "Clasificación de contaminantes en Bogotá 2022",
         "x": 0.08,
         "y": 0.15
        },
        "width": 900
       }
      }
     },
     "metadata": {},
     "output_type": "display_data"
    }
   ],
   "source": [
    "# graficamos el mapa con los datos\n",
    "mapear_plotly(estaciones_2022, clasificacion_2022, 2022)"
   ]
  },
  {
   "cell_type": "code",
   "execution_count": 7,
   "metadata": {},
   "outputs": [
    {
     "name": "stdout",
     "output_type": "stream",
     "text": [
      "Typical Dust type (Ia): darkblue\n",
      "Atypical Dust type (Ib): blue\n",
      "Typical Mixed type (IIa): darkgreen\n",
      "Mixed-Anthropogenic type (IIb1): green\n",
      "Mixed-Dust type (IIb2): greenyellow\n",
      "Typical Anthropogenic type (IIIa): darkred\n",
      "Atypical Anthropogenic type (IIIb): red\n"
     ]
    }
   ],
   "source": [
    "for i in colores.keys():\n",
    "    print(f\"{tipos[i]}: {colores[i]}\")"
   ]
  },
  {
   "attachments": {},
   "cell_type": "markdown",
   "metadata": {},
   "source": [
    "## 3. Correlación entre PM2.5, PM10 y PM2.5/PM10"
   ]
  },
  {
   "attachments": {},
   "cell_type": "markdown",
   "metadata": {},
   "source": [
    "Obtenemos los datos por año del promedio diario de todas las estaciones"
   ]
  },
  {
   "cell_type": "code",
   "execution_count": 14,
   "metadata": {},
   "outputs": [],
   "source": [
    "# definimos la función que obtiene el promedio de los datos de todas las estaciones por dia\n",
    "def promedio_estaciones(datos, estaciones):\n",
    "\n",
    "    # creamos un dataframe para cada variable\n",
    "    pm25 = pd.DataFrame()\n",
    "    pm10 = pd.DataFrame()\n",
    "    ratio = pd.DataFrame()\n",
    "\n",
    "    # obtenemos los datos de cada estacion y los promediamos por dia\n",
    "    for i in estaciones:\n",
    "        pm25[i] = datos[i][\"PM2.5\"].resample(\"D\").mean()\n",
    "        pm10[i] = datos[i][\"PM10\"].resample(\"D\").mean()\n",
    "        ratio[i] = datos[i][\"ratio\"].resample(\"D\").mean()\n",
    "\n",
    "    # promediamos los datos de todas las estaciones\n",
    "    pm25 = pm25.mean(axis=1)\n",
    "    pm10 = pm10.mean(axis=1)\n",
    "    ratio = ratio.mean(axis=1)\n",
    "\n",
    "    # creamos un dataframe con los datos promediados\n",
    "    datos_promedio = pd.DataFrame({\"PM2.5\": pm25, \"PM10\": pm10, \"ratio\": ratio})\n",
    "\n",
    "    return datos_promedio\n",
    "\n",
    "# obtenemos los datos promediados por hora de cada año\n",
    "datos_2020_promedio = promedio_estaciones(datos_2020, estaciones_2020)\n",
    "datos_2021_promedio = promedio_estaciones(datos_2021, estaciones_2021)\n",
    "datos_2022_promedio = promedio_estaciones(datos_2022, estaciones_2022)"
   ]
  },
  {
   "attachments": {},
   "cell_type": "markdown",
   "metadata": {},
   "source": [
    "Realizamos una regresión lineal entre PM2.5 y PM10, entre PM2.5 y PM2.5/PM10 y entre PM10 y PM2.5/PM10"
   ]
  },
  {
   "cell_type": "code",
   "execution_count": 15,
   "metadata": {},
   "outputs": [],
   "source": [
    "# hacemos un array para cada año con las regresiones (polyfit) entre PM2.5 y PM10,\n",
    "#PM2.5 y ratio, y PM10 y ratio respectivamente\n",
    "regresiones_2020 = np.array([np.polyfit(datos_2020_promedio[\"PM2.5\"], datos_2020_promedio[\"PM10\"], 1),\n",
    "                             np.polyfit(datos_2020_promedio[\"PM2.5\"], datos_2020_promedio[\"ratio\"], 1),\n",
    "                             np.polyfit(datos_2020_promedio[\"PM10\"], datos_2020_promedio[\"ratio\"], 1)])\n",
    "\n",
    "regresiones_2021 = np.array([np.polyfit(datos_2021_promedio[\"PM2.5\"], datos_2021_promedio[\"PM10\"], 1),\n",
    "                             np.polyfit(datos_2021_promedio[\"PM2.5\"], datos_2021_promedio[\"ratio\"], 1),\n",
    "                             np.polyfit(datos_2021_promedio[\"PM10\"], datos_2021_promedio[\"ratio\"], 1)])\n",
    "\n",
    "regresiones_2022 = np.array([np.polyfit(datos_2022_promedio[\"PM2.5\"], datos_2022_promedio[\"PM10\"], 1),\n",
    "                             np.polyfit(datos_2022_promedio[\"PM2.5\"], datos_2022_promedio[\"ratio\"], 1),\n",
    "                             np.polyfit(datos_2022_promedio[\"PM10\"], datos_2022_promedio[\"ratio\"], 1)])"
   ]
  },
  {
   "attachments": {},
   "cell_type": "markdown",
   "metadata": {},
   "source": [
    "Graficamos los datos con sus respectivas regresiones lineales y sus coeficientes de correlación"
   ]
  },
  {
   "cell_type": "code",
   "execution_count": 57,
   "metadata": {},
   "outputs": [
    {
     "data": {
      "image/png": "[encoded data removed]",
      "text/plain": [
       "<Figure size 1500x1500 with 4 Axes>"
      ]
     },
     "metadata": {},
     "output_type": "display_data"
    }
   ],
   "source": [
    "# creamos la figura\n",
    "fig, ax = plt.subplots(2, 2, figsize=(15, 15))\n",
    "\n",
    "# graficamos las relaciones entre PM2.5 y PM10\n",
    "lineone = ax[0, 0].scatter(datos_2020_promedio[\"PM2.5\"],\n",
    "                 datos_2020_promedio[\"PM10\"],\n",
    "                 s=10,\n",
    "                 color=\"#61cfff\",\n",
    "                 )\n",
    "ax[0, 0].plot(datos_2020_promedio[\"PM2.5\"],\n",
    "              regresiones_2020[0, 0]*datos_2020_promedio[\"PM2.5\"]+regresiones_2020[0, 1],\n",
    "              color=\"#61cfff\",\n",
    "              linewidth=2,\n",
    "              label= \"$R^2$=\"+str(round(np.corrcoef(datos_2020_promedio[\"PM2.5\"], datos_2020_promedio[\"PM10\"])[0,1]**2, 2))\n",
    "              )\n",
    "\n",
    "linetwo = ax[0, 0].scatter(datos_2021_promedio[\"PM2.5\"],\n",
    "                 datos_2021_promedio[\"PM10\"],\n",
    "                 s=10,\n",
    "                 color=\"#ff8f61\",\n",
    "                 )\n",
    "ax[0, 0].plot(datos_2021_promedio[\"PM2.5\"],\n",
    "              regresiones_2021[0, 0]*datos_2021_promedio[\"PM2.5\"]+regresiones_2021[0, 1],\n",
    "              color=\"#ff8f61\",\n",
    "              linewidth=2,\n",
    "              label= \"$R^2$=\"+str(round(np.corrcoef(datos_2021_promedio[\"PM2.5\"], datos_2021_promedio[\"PM10\"])[0,1]**2, 2))\n",
    "              )\n",
    "\n",
    "linethree = ax[0, 0].scatter(datos_2022_promedio[\"PM2.5\"],\n",
    "                 datos_2022_promedio[\"PM10\"],\n",
    "                 s=10,\n",
    "                 color=\"#71ff61\",\n",
    "                 )\n",
    "ax[0, 0].plot(datos_2022_promedio[\"PM2.5\"],\n",
    "              regresiones_2022[0, 0]*datos_2022_promedio[\"PM2.5\"]+regresiones_2022[0, 1],\n",
    "              color=\"#71ff61\",\n",
    "              linewidth=2,\n",
    "              label= \"$R^2$=\"+str(round(np.corrcoef(datos_2022_promedio[\"PM2.5\"], datos_2022_promedio[\"PM10\"])[0,1]**2, 2))\n",
    "              )\n",
    "\n",
    "# graficamos las relaciones entre PM2.5 y ratio\n",
    "ax[0, 1].scatter(datos_2020_promedio[\"PM2.5\"],\n",
    "                 datos_2020_promedio[\"ratio\"],\n",
    "                 s=10,\n",
    "                 color=\"#61cfff\",\n",
    "                 )\n",
    "ax[0, 1].plot(datos_2020_promedio[\"PM2.5\"],\n",
    "              regresiones_2020[1, 0]*datos_2020_promedio[\"PM2.5\"]+regresiones_2020[1, 1],\n",
    "              color=\"#61cfff\",\n",
    "              linewidth=2,\n",
    "              label= \"$R^2$=\"+str(round(np.corrcoef(datos_2020_promedio[\"PM2.5\"], datos_2020_promedio[\"ratio\"])[0,1]**2, 2))\n",
    "              )\n",
    "\n",
    "ax[0, 1].scatter(datos_2021_promedio[\"PM2.5\"],\n",
    "                 datos_2021_promedio[\"ratio\"],\n",
    "                 s=10,\n",
    "                 color=\"#ff8f61\",\n",
    "                 )\n",
    "ax[0, 1].plot(datos_2021_promedio[\"PM2.5\"],\n",
    "              regresiones_2021[1, 0]*datos_2021_promedio[\"PM2.5\"]+regresiones_2021[1, 1],\n",
    "              color=\"#ff8f61\",\n",
    "              linewidth=2,\n",
    "              label= \"$R^2$=\"+str(round(np.corrcoef(datos_2021_promedio[\"PM2.5\"], datos_2021_promedio[\"ratio\"])[0,1]**2, 2))\n",
    "              )\n",
    "\n",
    "ax[0, 1].scatter(datos_2022_promedio[\"PM2.5\"],\n",
    "                 datos_2022_promedio[\"ratio\"],\n",
    "                 s=10,\n",
    "                 color=\"#71ff61\",\n",
    "                 )\n",
    "ax[0, 1].plot(datos_2022_promedio[\"PM2.5\"],\n",
    "              regresiones_2022[1, 0]*datos_2022_promedio[\"PM2.5\"]+regresiones_2022[1, 1],\n",
    "              color=\"#71ff61\",\n",
    "              linewidth=2,\n",
    "              label= \"$R^2$=\"+str(round(np.corrcoef(datos_2022_promedio[\"PM2.5\"], datos_2022_promedio[\"ratio\"])[0,1]**2, 2))\n",
    "              )\n",
    "\n",
    "# graficamos las relaciones entre PM10 y ratio\n",
    "ax[1, 0].scatter(datos_2020_promedio[\"PM10\"],\n",
    "                 datos_2020_promedio[\"ratio\"],\n",
    "                 s=10,\n",
    "                 color=\"#61cfff\",\n",
    "                 )\n",
    "ax[1, 0].plot(datos_2020_promedio[\"PM10\"],\n",
    "              regresiones_2020[2, 0]*datos_2020_promedio[\"PM10\"]+regresiones_2020[2, 1],\n",
    "              color=\"#61cfff\",\n",
    "              linewidth=2,\n",
    "              label= \"$R^2$=\"+str(round(np.corrcoef(datos_2020_promedio[\"PM10\"], datos_2020_promedio[\"ratio\"])[0,1]**2, 2))\n",
    "              )\n",
    "\n",
    "ax[1, 0].scatter(datos_2021_promedio[\"PM10\"],\n",
    "                 datos_2021_promedio[\"ratio\"],\n",
    "                 s=10,\n",
    "                 color=\"#ff8f61\",\n",
    "                 )\n",
    "ax[1, 0].plot(datos_2021_promedio[\"PM10\"],\n",
    "              regresiones_2021[2, 0]*datos_2021_promedio[\"PM10\"]+regresiones_2021[2, 1],\n",
    "              color=\"#ff8f61\",\n",
    "              linewidth=2,\n",
    "              label= \"$R^2$=\"+str(round(np.corrcoef(datos_2021_promedio[\"PM10\"], datos_2021_promedio[\"ratio\"])[0,1]**2, 2))\n",
    "              )\n",
    "\n",
    "ax[1, 0].scatter(datos_2022_promedio[\"PM10\"],\n",
    "                 datos_2022_promedio[\"ratio\"],\n",
    "                 s=10,\n",
    "                 color=\"#71ff61\",\n",
    "                 )\n",
    "ax[1, 0].plot(datos_2022_promedio[\"PM10\"],\n",
    "              regresiones_2022[2, 0]*datos_2022_promedio[\"PM10\"]+regresiones_2022[2, 1],\n",
    "              color=\"#71ff61\",\n",
    "              linewidth=2,\n",
    "              label= \"$R^2$=\"+str(round(np.corrcoef(datos_2022_promedio[\"PM10\"], datos_2022_promedio[\"ratio\"])[0,1]**2, 2))\n",
    "              )\n",
    "\n",
    "# añadimos los labels\n",
    "ax[0, 0].set_xlabel(r\"$PM_{2.5} [\\mu g / m^3]$\", fontsize=15)\n",
    "ax[0, 0].set_ylabel(r\"$PM_{10} [\\mu g / m^3]$\", fontsize=15)\n",
    "ax[0, 1].set_xlabel(r\"$PM_{2.5} [\\mu g / m^3]$\", fontsize=15)\n",
    "ax[0, 1].set_ylabel(r\"$PM_{2.5}/PM_{10}$\", fontsize=15)\n",
    "ax[1, 0].set_xlabel(r\"$PM_{10} [\\mu g / m^3]$\", fontsize=15)\n",
    "ax[1, 0].set_ylabel(r\"$PM_{2.5}/PM_{10}$\", fontsize=15)\n",
    "\n",
    "# eliminamos los ejes del 4to cuadrante\n",
    "ax[1,1].axis(\"off\")\n",
    "\n",
    "# añadimos las leyendas\n",
    "ax[0,0].legend(fontsize=15)\n",
    "ax[0,1].legend(fontsize=15)\n",
    "ax[1,0].legend(fontsize=15)\n",
    "\n",
    "fig.legend([lineone, linetwo, linethree], [\"2020\", \"2021\", \"2022\"], loc=(0.71,0.22), fontsize=18)\n",
    "\n",
    "# guardamos la imagen\n",
    "plt.savefig(\"../data/results/corelaciones.png\", dpi=300, bbox_inches=\"tight\")"
   ]
  },
  {
   "attachments": {},
   "cell_type": "markdown",
   "metadata": {},
   "source": [
    "\n",
    "## 4. Variacion temporal del material particulado y el cociente PM2.5/PM10"
   ]
  },
  {
   "attachments": {},
   "cell_type": "markdown",
   "metadata": {},
   "source": [
    "### Recycle Bin"
   ]
  },
  {
   "cell_type": "code",
   "execution_count": null,
   "metadata": {},
   "outputs": [],
   "source": [
    "# # importamos los datos de las estaciones y cada DataFrame lo guardamos en un diccionario\n",
    "# datos = {}\n",
    "# for i in estaciones:\n",
    "#     # importamos un set de datos\n",
    "#     data = pd.read_excel(\n",
    "#         \"../data/2022/\" + str(i) + \"_2022.xlsx\", skiprows=3, skipfooter=11, index_col=0\n",
    "#     )[[\"PM10\", \"PM2.5\"]]\n",
    "\n",
    "#     # eliminamos la fila de unidades\n",
    "#     data.drop(data.index[0], inplace=True)\n",
    "\n",
    "#     # cambiamos el indice a tipo fecha, cambiando el 24:00 por 00:00 del otro día\n",
    "#     data.index = pd.to_datetime(\n",
    "#         data.index.str.replace(\"24:00\", \"00:00\"), format=\"%d-%m-%Y %H:%M\"\n",
    "#     )\n",
    "#     new_index = []\n",
    "#     for j in range(len(data.index)):\n",
    "#         new_index.append(data.index[j])\n",
    "#         if data.index[j].hour == 0:  # si la hora es 00:00 le sumamos un día\n",
    "#             new_index[j] = data.index[j] + timedelta(days=1)\n",
    "#     data.index = new_index\n",
    "\n",
    "#     # cambiamos el tipo de datos a float\n",
    "#     data[\"PM10\"] = pd.to_numeric(data[\"PM10\"], errors=\"coerce\")\n",
    "#     data[\"PM2.5\"] = pd.to_numeric(data[\"PM2.5\"], errors=\"coerce\")\n",
    "\n",
    "#     # eliminamos los datos nulos\n",
    "#     data.dropna(inplace=True)\n",
    "\n",
    "#     # creamos la columna con la relacion PM2.5/PM10\n",
    "#     data[\"ratio\"] = data[\"PM2.5\"] / data[\"PM10\"]\n",
    "\n",
    "#     # guardamos el DataFrame con su nombre en el diccionario\n",
    "#     datos[i] = data\n",
    "\n",
    "#     # eliminamos todas las entradas en las que el ratio es mayor o igual a 1 y menor o igual a 0\n",
    "#     datos[i] = datos[i][datos[i][\"ratio\"] < 1]\n",
    "#     datos[i] = datos[i][datos[i][\"ratio\"] > 0]"
   ]
  },
  {
   "cell_type": "code",
   "execution_count": null,
   "metadata": {},
   "outputs": [],
   "source": [
    "# #graficamos un histograma de los datos\n",
    "# plt.figure(figsize=(10,5))\n",
    "# plt.hist(data[\"ratio\"], bins=25, edgecolor=\"black\", histtype=\"bar\", color=\"darkorchid\", align= \"mid\")\n",
    "# plt.axvline(0.4, color=\"red\", linestyle=\"dashed\")\n",
    "# plt.axvline(0.6, color=\"red\", linestyle=\"dashed\")\n",
    "# plt.xlabel(\"PM2.5/PM10\")\n",
    "# plt.ylabel(\"Frecuencia\")\n",
    "# plt.title(\"Histograma de la relación PM2.5/PM10\")\n",
    "# plt.grid(alpha=0.5)\n",
    "# plt.gca().set_axisbelow(True)\n",
    "# plt.show()"
   ]
  },
  {
   "cell_type": "code",
   "execution_count": 76,
   "metadata": {},
   "outputs": [
    {
     "data": {
      "application/vnd.plotly.v1+json": {
       "config": {
        "plotlyServerURL": "https://plot.ly"
       },
       "data": [
        {
         "lat": [
          4.658466666666667
         ],
         "lon": [
          -74.08396666666667
         ],
         "marker": {
          "color": "mediumpurple",
          "size": 10
         },
         "mode": "markers",
         "text": "CDAR: Mixed-Dust type (IIb2)",
         "type": "scattermapbox"
        },
        {
         "lat": [
          4.595833333333333
         ],
         "lon": [
          -74.14850000000001
         ],
         "marker": {
          "color": "saddlebrown",
          "size": 10
         },
         "mode": "markers",
         "text": "CSE: Typical Dust type (Ia)",
         "type": "scattermapbox"
        },
        {
         "lat": [
          4.678241666666667
         ],
         "lon": [
          -74.14381944444445
         ],
         "marker": {
          "color": "maroon",
          "size": 10
         },
         "mode": "markers",
         "text": "FTB: Mixed-Anthropogenic type (IIb1)",
         "type": "scattermapbox"
        },
        {
         "lat": [
          4.7837499999999995
         ],
         "lon": [
          -74.04413888888888
         ],
         "marker": {
          "color": "maroon",
          "size": 10
         },
         "mode": "markers",
         "text": "GYR: Mixed-Anthropogenic type (IIb1)",
         "type": "scattermapbox"
        },
        {
         "lat": [
          4.625050000000001
         ],
         "lon": [
          -74.16133333333335
         ],
         "marker": {
          "color": "maroon",
          "size": 10
         },
         "mode": "markers",
         "text": "KEN: Mixed-Anthropogenic type (IIb1)",
         "type": "scattermapbox"
        },
        {
         "lat": [
          4.6907000000000005
         ],
         "lon": [
          -74.08248333333333
         ],
         "marker": {
          "color": "maroon",
          "size": 10
         },
         "mode": "markers",
         "text": "LFR: Mixed-Anthropogenic type (IIb1)",
         "type": "scattermapbox"
        },
        {
         "lat": [
          4.625486111111112
         ],
         "lon": [
          -74.06698055555555
         ],
         "marker": {
          "color": "mediumpurple",
          "size": 10
         },
         "mode": "markers",
         "text": "MAM: Mixed-Dust type (IIb2)",
         "type": "scattermapbox"
        },
        {
         "lat": [
          4.645194444444444
         ],
         "lon": [
          -74.06155555555556
         ],
         "marker": {
          "color": "maroon",
          "size": 10
         },
         "mode": "markers",
         "text": "MOV1: Mixed-Anthropogenic type (IIb1)",
         "type": "scattermapbox"
        },
        {
         "lat": [
          4.6317666666666675
         ],
         "lon": [
          -74.11748333333333
         ],
         "marker": {
          "color": "mediumpurple",
          "size": 10
         },
         "mode": "markers",
         "text": "PTE: Mixed-Dust type (IIb2)",
         "type": "scattermapbox"
        },
        {
         "lat": [
          4.572552777777777
         ],
         "lon": [
          -74.08381388888888
         ],
         "marker": {
          "color": "maroon",
          "size": 10
         },
         "mode": "markers",
         "text": "SCR: Mixed-Anthropogenic type (IIb1)",
         "type": "scattermapbox"
        },
        {
         "lat": [
          4.761247222222222
         ],
         "lon": [
          -74.09346111111111
         ],
         "marker": {
          "color": "chocolate",
          "size": 10
         },
         "mode": "markers",
         "text": "SUB: Atypical Dust type (Ib)",
         "type": "scattermapbox"
        },
        {
         "lat": [
          4.576225
         ],
         "lon": [
          -74.13095555555554
         ],
         "marker": {
          "color": "chocolate",
          "size": 10
         },
         "mode": "markers",
         "text": "TUN: Atypical Dust type (Ib)",
         "type": "scattermapbox"
        }
       ],
       "layout": {
        "height": 600,
        "mapbox": {
         "center": {
          "lat": 4.60971,
          "lon": -74.08175
         },
         "style": "carto-positron",
         "zoom": 10.5
        },
        "margin": {
         "b": 0,
         "l": 0,
         "r": 0,
         "t": 0
        },
        "showlegend": true,
        "template": {
         "data": {
          "bar": [
           {
            "error_x": {
             "color": "#2a3f5f"
            },
            "error_y": {
             "color": "#2a3f5f"
            },
            "marker": {
             "line": {
              "color": "#E5ECF6",
              "width": 0.5
             },
             "pattern": {
              "fillmode": "overlay",
              "size": 10,
              "solidity": 0.2
             }
            },
            "type": "bar"
           }
          ],
          "barpolar": [
           {
            "marker": {
             "line": {
              "color": "#E5ECF6",
              "width": 0.5
             },
             "pattern": {
              "fillmode": "overlay",
              "size": 10,
              "solidity": 0.2
             }
            },
            "type": "barpolar"
           }
          ],
          "carpet": [
           {
            "aaxis": {
             "endlinecolor": "#2a3f5f",
             "gridcolor": "white",
             "linecolor": "white",
             "minorgridcolor": "white",
             "startlinecolor": "#2a3f5f"
            },
            "baxis": {
             "endlinecolor": "#2a3f5f",
             "gridcolor": "white",
             "linecolor": "white",
             "minorgridcolor": "white",
             "startlinecolor": "#2a3f5f"
            },
            "type": "carpet"
           }
          ],
          "choropleth": [
           {
            "colorbar": {
             "outlinewidth": 0,
             "ticks": ""
            },
            "type": "choropleth"
           }
          ],
          "contour": [
           {
            "colorbar": {
             "outlinewidth": 0,
             "ticks": ""
            },
            "colorscale": [
             [
              0,
              "#0d0887"
             ],
             [
              0.1111111111111111,
              "#46039f"
             ],
             [
              0.2222222222222222,
              "#7201a8"
             ],
             [
              0.3333333333333333,
              "#9c179e"
             ],
             [
              0.4444444444444444,
              "#bd3786"
             ],
             [
              0.5555555555555556,
              "#d8576b"
             ],
             [
              0.6666666666666666,
              "#ed7953"
             ],
             [
              0.7777777777777778,
              "#fb9f3a"
             ],
             [
              0.8888888888888888,
              "#fdca26"
             ],
             [
              1,
              "#f0f921"
             ]
            ],
            "type": "contour"
           }
          ],
          "contourcarpet": [
           {
            "colorbar": {
             "outlinewidth": 0,
             "ticks": ""
            },
            "type": "contourcarpet"
           }
          ],
          "heatmap": [
           {
            "colorbar": {
             "outlinewidth": 0,
             "ticks": ""
            },
            "colorscale": [
             [
              0,
              "#0d0887"
             ],
             [
              0.1111111111111111,
              "#46039f"
             ],
             [
              0.2222222222222222,
              "#7201a8"
             ],
             [
              0.3333333333333333,
              "#9c179e"
             ],
             [
              0.4444444444444444,
              "#bd3786"
             ],
             [
              0.5555555555555556,
              "#d8576b"
             ],
             [
              0.6666666666666666,
              "#ed7953"
             ],
             [
              0.7777777777777778,
              "#fb9f3a"
             ],
             [
              0.8888888888888888,
              "#fdca26"
             ],
             [
              1,
              "#f0f921"
             ]
            ],
            "type": "heatmap"
           }
          ],
          "heatmapgl": [
           {
            "colorbar": {
             "outlinewidth": 0,
             "ticks": ""
            },
            "colorscale": [
             [
              0,
              "#0d0887"
             ],
             [
              0.1111111111111111,
              "#46039f"
             ],
             [
              0.2222222222222222,
              "#7201a8"
             ],
             [
              0.3333333333333333,
              "#9c179e"
             ],
             [
              0.4444444444444444,
              "#bd3786"
             ],
             [
              0.5555555555555556,
              "#d8576b"
             ],
             [
              0.6666666666666666,
              "#ed7953"
             ],
             [
              0.7777777777777778,
              "#fb9f3a"
             ],
             [
              0.8888888888888888,
              "#fdca26"
             ],
             [
              1,
              "#f0f921"
             ]
            ],
            "type": "heatmapgl"
           }
          ],
          "histogram": [
           {
            "marker": {
             "pattern": {
              "fillmode": "overlay",
              "size": 10,
              "solidity": 0.2
             }
            },
            "type": "histogram"
           }
          ],
          "histogram2d": [
           {
            "colorbar": {
             "outlinewidth": 0,
             "ticks": ""
            },
            "colorscale": [
             [
              0,
              "#0d0887"
             ],
             [
              0.1111111111111111,
              "#46039f"
             ],
             [
              0.2222222222222222,
              "#7201a8"
             ],
             [
              0.3333333333333333,
              "#9c179e"
             ],
             [
              0.4444444444444444,
              "#bd3786"
             ],
             [
              0.5555555555555556,
              "#d8576b"
             ],
             [
              0.6666666666666666,
              "#ed7953"
             ],
             [
              0.7777777777777778,
              "#fb9f3a"
             ],
             [
              0.8888888888888888,
              "#fdca26"
             ],
             [
              1,
              "#f0f921"
             ]
            ],
            "type": "histogram2d"
           }
          ],
          "histogram2dcontour": [
           {
            "colorbar": {
             "outlinewidth": 0,
             "ticks": ""
            },
            "colorscale": [
             [
              0,
              "#0d0887"
             ],
             [
              0.1111111111111111,
              "#46039f"
             ],
             [
              0.2222222222222222,
              "#7201a8"
             ],
             [
              0.3333333333333333,
              "#9c179e"
             ],
             [
              0.4444444444444444,
              "#bd3786"
             ],
             [
              0.5555555555555556,
              "#d8576b"
             ],
             [
              0.6666666666666666,
              "#ed7953"
             ],
             [
              0.7777777777777778,
              "#fb9f3a"
             ],
             [
              0.8888888888888888,
              "#fdca26"
             ],
             [
              1,
              "#f0f921"
             ]
            ],
            "type": "histogram2dcontour"
           }
          ],
          "mesh3d": [
           {
            "colorbar": {
             "outlinewidth": 0,
             "ticks": ""
            },
            "type": "mesh3d"
           }
          ],
          "parcoords": [
           {
            "line": {
             "colorbar": {
              "outlinewidth": 0,
              "ticks": ""
             }
            },
            "type": "parcoords"
           }
          ],
          "pie": [
           {
            "automargin": true,
            "type": "pie"
           }
          ],
          "scatter": [
           {
            "fillpattern": {
             "fillmode": "overlay",
             "size": 10,
             "solidity": 0.2
            },
            "type": "scatter"
           }
          ],
          "scatter3d": [
           {
            "line": {
             "colorbar": {
              "outlinewidth": 0,
              "ticks": ""
             }
            },
            "marker": {
             "colorbar": {
              "outlinewidth": 0,
              "ticks": ""
             }
            },
            "type": "scatter3d"
           }
          ],
          "scattercarpet": [
           {
            "marker": {
             "colorbar": {
              "outlinewidth": 0,
              "ticks": ""
             }
            },
            "type": "scattercarpet"
           }
          ],
          "scattergeo": [
           {
            "marker": {
             "colorbar": {
              "outlinewidth": 0,
              "ticks": ""
             }
            },
            "type": "scattergeo"
           }
          ],
          "scattergl": [
           {
            "marker": {
             "colorbar": {
              "outlinewidth": 0,
              "ticks": ""
             }
            },
            "type": "scattergl"
           }
          ],
          "scattermapbox": [
           {
            "marker": {
             "colorbar": {
              "outlinewidth": 0,
              "ticks": ""
             }
            },
            "type": "scattermapbox"
           }
          ],
          "scatterpolar": [
           {
            "marker": {
             "colorbar": {
              "outlinewidth": 0,
              "ticks": ""
             }
            },
            "type": "scatterpolar"
           }
          ],
          "scatterpolargl": [
           {
            "marker": {
             "colorbar": {
              "outlinewidth": 0,
              "ticks": ""
             }
            },
            "type": "scatterpolargl"
           }
          ],
          "scatterternary": [
           {
            "marker": {
             "colorbar": {
              "outlinewidth": 0,
              "ticks": ""
             }
            },
            "type": "scatterternary"
           }
          ],
          "surface": [
           {
            "colorbar": {
             "outlinewidth": 0,
             "ticks": ""
            },
            "colorscale": [
             [
              0,
              "#0d0887"
             ],
             [
              0.1111111111111111,
              "#46039f"
             ],
             [
              0.2222222222222222,
              "#7201a8"
             ],
             [
              0.3333333333333333,
              "#9c179e"
             ],
             [
              0.4444444444444444,
              "#bd3786"
             ],
             [
              0.5555555555555556,
              "#d8576b"
             ],
             [
              0.6666666666666666,
              "#ed7953"
             ],
             [
              0.7777777777777778,
              "#fb9f3a"
             ],
             [
              0.8888888888888888,
              "#fdca26"
             ],
             [
              1,
              "#f0f921"
             ]
            ],
            "type": "surface"
           }
          ],
          "table": [
           {
            "cells": {
             "fill": {
              "color": "#EBF0F8"
             },
             "line": {
              "color": "white"
             }
            },
            "header": {
             "fill": {
              "color": "#C8D4E3"
             },
             "line": {
              "color": "white"
             }
            },
            "type": "table"
           }
          ]
         },
         "layout": {
          "annotationdefaults": {
           "arrowcolor": "#2a3f5f",
           "arrowhead": 0,
           "arrowwidth": 1
          },
          "autotypenumbers": "strict",
          "coloraxis": {
           "colorbar": {
            "outlinewidth": 0,
            "ticks": ""
           }
          },
          "colorscale": {
           "diverging": [
            [
             0,
             "#8e0152"
            ],
            [
             0.1,
             "#c51b7d"
            ],
            [
             0.2,
             "#de77ae"
            ],
            [
             0.3,
             "#f1b6da"
            ],
            [
             0.4,
             "#fde0ef"
            ],
            [
             0.5,
             "#f7f7f7"
            ],
            [
             0.6,
             "#e6f5d0"
            ],
            [
             0.7,
             "#b8e186"
            ],
            [
             0.8,
             "#7fbc41"
            ],
            [
             0.9,
             "#4d9221"
            ],
            [
             1,
             "#276419"
            ]
           ],
           "sequential": [
            [
             0,
             "#0d0887"
            ],
            [
             0.1111111111111111,
             "#46039f"
            ],
            [
             0.2222222222222222,
             "#7201a8"
            ],
            [
             0.3333333333333333,
             "#9c179e"
            ],
            [
             0.4444444444444444,
             "#bd3786"
            ],
            [
             0.5555555555555556,
             "#d8576b"
            ],
            [
             0.6666666666666666,
             "#ed7953"
            ],
            [
             0.7777777777777778,
             "#fb9f3a"
            ],
            [
             0.8888888888888888,
             "#fdca26"
            ],
            [
             1,
             "#f0f921"
            ]
           ],
           "sequentialminus": [
            [
             0,
             "#0d0887"
            ],
            [
             0.1111111111111111,
             "#46039f"
            ],
            [
             0.2222222222222222,
             "#7201a8"
            ],
            [
             0.3333333333333333,
             "#9c179e"
            ],
            [
             0.4444444444444444,
             "#bd3786"
            ],
            [
             0.5555555555555556,
             "#d8576b"
            ],
            [
             0.6666666666666666,
             "#ed7953"
            ],
            [
             0.7777777777777778,
             "#fb9f3a"
            ],
            [
             0.8888888888888888,
             "#fdca26"
            ],
            [
             1,
             "#f0f921"
            ]
           ]
          },
          "colorway": [
           "#636efa",
           "#EF553B",
           "#00cc96",
           "#ab63fa",
           "#FFA15A",
           "#19d3f3",
           "#FF6692",
           "#B6E880",
           "#FF97FF",
           "#FECB52"
          ],
          "font": {
           "color": "#2a3f5f"
          },
          "geo": {
           "bgcolor": "white",
           "lakecolor": "white",
           "landcolor": "#E5ECF6",
           "showlakes": true,
           "showland": true,
           "subunitcolor": "white"
          },
          "hoverlabel": {
           "align": "left"
          },
          "hovermode": "closest",
          "mapbox": {
           "style": "light"
          },
          "paper_bgcolor": "white",
          "plot_bgcolor": "#E5ECF6",
          "polar": {
           "angularaxis": {
            "gridcolor": "white",
            "linecolor": "white",
            "ticks": ""
           },
           "bgcolor": "#E5ECF6",
           "radialaxis": {
            "gridcolor": "white",
            "linecolor": "white",
            "ticks": ""
           }
          },
          "scene": {
           "xaxis": {
            "backgroundcolor": "#E5ECF6",
            "gridcolor": "white",
            "gridwidth": 2,
            "linecolor": "white",
            "showbackground": true,
            "ticks": "",
            "zerolinecolor": "white"
           },
           "yaxis": {
            "backgroundcolor": "#E5ECF6",
            "gridcolor": "white",
            "gridwidth": 2,
            "linecolor": "white",
            "showbackground": true,
            "ticks": "",
            "zerolinecolor": "white"
           },
           "zaxis": {
            "backgroundcolor": "#E5ECF6",
            "gridcolor": "white",
            "gridwidth": 2,
            "linecolor": "white",
            "showbackground": true,
            "ticks": "",
            "zerolinecolor": "white"
           }
          },
          "shapedefaults": {
           "line": {
            "color": "#2a3f5f"
           }
          },
          "ternary": {
           "aaxis": {
            "gridcolor": "white",
            "linecolor": "white",
            "ticks": ""
           },
           "baxis": {
            "gridcolor": "white",
            "linecolor": "white",
            "ticks": ""
           },
           "bgcolor": "#E5ECF6",
           "caxis": {
            "gridcolor": "white",
            "linecolor": "white",
            "ticks": ""
           }
          },
          "title": {
           "x": 0.05
          },
          "xaxis": {
           "automargin": true,
           "gridcolor": "white",
           "linecolor": "white",
           "ticks": "",
           "title": {
            "standoff": 15
           },
           "zerolinecolor": "white",
           "zerolinewidth": 2
          },
          "yaxis": {
           "automargin": true,
           "gridcolor": "white",
           "linecolor": "white",
           "ticks": "",
           "title": {
            "standoff": 15
           },
           "zerolinecolor": "white",
           "zerolinewidth": 2
          }
         }
        },
        "title": {
         "text": "Estaciones de la RMCAB"
        },
        "width": 800
       }
      }
     },
     "metadata": {},
     "output_type": "display_data"
    }
   ],
   "source": [
    "# obtenemos la longitud y latitud de cada estacion desde el sitio web de la secretaria de ambiente de bogota\n",
    "soup = bs.BeautifulSoup(\n",
    "    requests.get(url).text, \"html.parser\"\n",
    ")\n",
    "coordenadas = {}  # diccionario con las coordenadas de cada estacion [latitud, longitud]\n",
    "for i in estaciones_2020:\n",
    "\n",
    "    if i != \"MOV1\": # MOV1 no aparece en la pagina de la RMCAB\n",
    "        coordenadas[i] = [\n",
    "            soup.find(\"td\", string=i).find_next_sibling().text.replace(\" \", \"\"),\n",
    "            soup.find(\"td\", string=i).find_next_sibling().find_next_sibling().text.replace(\" \", \"\"),\n",
    "        ]\n",
    "    elif i == \"MOV1\":\n",
    "        coordenadas[i] = [\"4°38'42.7\\\"N\", \"74°03'41.6\\\"W\"]\n",
    "\n",
    "# convertimos las coordenadas a float\n",
    "def convertir_coordenada(coordenada):\n",
    "    grados, minutos, segundos, direccion = re.split(\"[°'\\\"]\", coordenada)\n",
    "    decimal = float(grados) + float(minutos) / 60 + float(segundos) / 3600\n",
    "    if direccion in [\"S\", \"W\"]:\n",
    "        decimal *= -1\n",
    "    return decimal\n",
    "\n",
    "for i in estaciones_2020:\n",
    "    coordenadas[i][0] = convertir_coordenada(coordenadas[i][0])\n",
    "    coordenadas[i][1] = convertir_coordenada(coordenadas[i][1])\n",
    "\n",
    "#graficamos las estaciones en un mapa\n",
    "\n",
    "fig = go.Figure()\n",
    "for i in estaciones_2020:\n",
    "    fig.add_trace(go.Scattermapbox(\n",
    "        mode=\"markers\",\n",
    "        lon=[coordenadas[i][1]],\n",
    "        lat=[coordenadas[i][0]],\n",
    "        marker={\"size\": 10, \"color\": colores.get(clasificacion_2020[i])},\n",
    "        text=f\"{i}: {tipos[clasificacion_2020[i]]}\",\n",
    "    ))\n",
    "\n",
    "fig.update_layout(\n",
    "    title_text=\"Estaciones de la RMCAB\",\n",
    "    mapbox={\n",
    "        \"style\": \"carto-positron\",\n",
    "        \"center\": {\"lon\": -74.08175, \"lat\": 4.60971},\n",
    "        \"zoom\": 10.5,\n",
    "    },\n",
    "    margin={\"r\": 0, \"t\": 0, \"l\": 0, \"b\": 0},\n",
    "    height=600,\n",
    "    width=800,\n",
    "    showlegend=True,\n",
    ")\n",
    "\n",
    "\n",
    "# #graficamos las estaciones en un mapa\n",
    "# fig = go.Figure(go.Scattermapbox(\n",
    "#     mode=\"markers\",\n",
    "#     lon=[coordenadas[i][1] for i in estaciones_2020],\n",
    "#     lat=[coordenadas[i][0] for i in estaciones_2020],\n",
    "#     marker={\"size\": 10, \"color\": [colores.get(clasificacion_2020[i]) for i in estaciones_2020]},\n",
    "#     text=[f\"{i}: {tipos[clasificacion_2020[i]]}\" for i in estaciones_2020],\n",
    "# ))\n",
    "\n",
    "# # Crear una lista de colores y categorías para la leyenda\n",
    "# leyenda_colores = list(colores.values())\n",
    "# leyenda_categorias = list(colores.keys())\n",
    "\n",
    "# # Crear un objeto scattermapbox para la leyenda\n",
    "# leyenda_trace = go.Scattermapbox(\n",
    "#     mode=\"markers\",\n",
    "#     lon=[-74.085, -74.085],  # Coordenadas ficticias para los puntos de la leyenda\n",
    "#     lat=[4.712, 4.712],\n",
    "#     marker={\"size\": 10, \"color\": leyenda_colores},\n",
    "#     text=[f\"Categoría {tipos[cat]}\" for cat in leyenda_categorias],\n",
    "#     name=\"Leyenda\",\n",
    "# )\n",
    "\n",
    "# # Agregar el objeto leyenda_trace al objeto figura principal\n",
    "# fig.add_trace(leyenda_trace)\n",
    "\n",
    "# fig.update_layout(\n",
    "#     title=\"Clasificación de contaminantes en Bogotá\",\n",
    "#     showlegend=True,\n",
    "#     mapbox={\n",
    "#         \"style\": \"carto-positron\",\n",
    "#         'center': {'lon': -74.0820, 'lat': 4.7110}, # centro de bogota\n",
    "#         \"zoom\": 9.5,\n",
    "#     },\n",
    "#     margin={\"l\": 0, \"r\": 0, \"t\": 0, \"b\": 0}\n",
    "# )\n",
    "\n",
    "# fig.show()"
   ]
  },
  {
   "cell_type": "code",
   "execution_count": 3,
   "metadata": {},
   "outputs": [],
   "source": [
    "# array con los nombres de las estaciones\n",
    "estaciones = [\"BOL\",\"CBV\",\"CDAR\",\"COL\",\"CSE\",\"FTB\",\n",
    "            \"GYR\",\"JAZ\",\"KEN\",\"LFR\",\"MAM\",\"MOV1\",\n",
    "            \"MOV2\",\"PTE\",\"SCR\",\"SUB\",\"TUN\",\"USM\",\"USQ\"]\n",
    "\n",
    "def importar_datos_individuales(estaciones, año):\n",
    "    # importamos los datos de las estaciones y cada DataFrame lo guardamos en un diccionario\n",
    "    datos = {}\n",
    "    for i in estaciones:\n",
    "        # importamos un set de datos\n",
    "        data = pd.read_excel(\n",
    "            \"../data/\"+str(año)+\"/\" + str(i) + \"_\"+str(año)+\".xlsx\", skiprows=3, skipfooter=11, index_col=0\n",
    "        )[[\"PM10\", \"PM2.5\"]]\n",
    "\n",
    "        # eliminamos la fila de unidades\n",
    "        data.drop(data.index[0], inplace=True)\n",
    "\n",
    "        # cambiamos el indice a tipo fecha, cambiando el 24:00 por 00:00 del otro día\n",
    "        data.index = pd.to_datetime(\n",
    "            data.index.str.replace(\"24:00\", \"00:00\"), format=\"%d-%m-%Y %H:%M\"\n",
    "        )\n",
    "        new_index = []\n",
    "        for j in range(len(data.index)):\n",
    "            new_index.append(data.index[j])\n",
    "            if data.index[j].hour == 0:  # si la hora es 00:00 le sumamos un día\n",
    "                new_index[j] = data.index[j] + timedelta(days=1)\n",
    "        data.index = new_index\n",
    "\n",
    "        # cambiamos el tipo de datos a float\n",
    "        data[\"PM10\"] = pd.to_numeric(data[\"PM10\"], errors=\"coerce\")\n",
    "        data[\"PM2.5\"] = pd.to_numeric(data[\"PM2.5\"], errors=\"coerce\")\n",
    "\n",
    "        # eliminamos los datos nulos\n",
    "        data.dropna(inplace=True)\n",
    "\n",
    "        # creamos la columna con la relacion PM2.5/PM10\n",
    "        data[\"ratio\"] = data[\"PM2.5\"] / data[\"PM10\"]\n",
    "\n",
    "        # eliminamos todas las entradas en las que el ratio es mayor o igual a 1 y menor o igual a 0\n",
    "        data = data[data[\"ratio\"] < 1]\n",
    "        data = data[data[\"ratio\"] > 0]\n",
    "\n",
    "        # guardamos el DataFrame con su nombre en el diccionario\n",
    "        datos[i] = data\n",
    "\n",
    "    # # calculamos el procentaje de datos que tenemos en cada estacion: datos validos/8600 (8600 horas en un año)\n",
    "    # porcentaje_datos = {}\n",
    "    # for i in estaciones:\n",
    "    #     porcentaje_datos[i] = len(datos[i]) / 8760\n",
    "\n",
    "    # # descartamos las estaciones que tienen menos del 70% de datos validos\n",
    "    # estaciones = [i for i in estaciones if porcentaje_datos[i] >= 0.7]\n",
    "    # datos = {i: datos[i] for i in estaciones}\n",
    "\n",
    "    return datos\n",
    "\n",
    "datos2020 = importar_datos_individuales(estaciones, 2020)"
   ]
  },
  {
   "cell_type": "code",
   "execution_count": 10,
   "metadata": {},
   "outputs": [
    {
     "name": "stdout",
     "output_type": "stream",
     "text": [
      "Estaciones: 19\n",
      "Estaciones con más del 70% de datos: 12\n"
     ]
    },
    {
     "data": {
      "text/plain": [
       "{'BOL': 18.972602739726028,\n",
       " 'CBV': 20.07990867579909,\n",
       " 'CDAR': 75.68493150684932,\n",
       " 'COL': 0.0,\n",
       " 'CSE': 89.41780821917808,\n",
       " 'FTB': 86.7351598173516,\n",
       " 'GYR': 81.35844748858447,\n",
       " 'JAZ': 22.602739726027394,\n",
       " 'KEN': 92.8082191780822,\n",
       " 'LFR': 76.07305936073058,\n",
       " 'MAM': 72.68264840182648,\n",
       " 'MOV1': 91.9634703196347,\n",
       " 'MOV2': 0.0,\n",
       " 'PTE': 81.64383561643835,\n",
       " 'SCR': 80.3082191780822,\n",
       " 'SUB': 85.11415525114155,\n",
       " 'TUN': 91.56392694063928,\n",
       " 'USM': 19.45205479452055,\n",
       " 'USQ': 35.61643835616438}"
      ]
     },
     "execution_count": 10,
     "metadata": {},
     "output_type": "execute_result"
    }
   ],
   "source": [
    "porcentaje_datos = {}\n",
    "for i in estaciones:\n",
    "    porcentaje_datos[i] = len(datos2020[i]) / 8760 * 100\n",
    "\n",
    "#imprimimos la cantidad de estaciones y la cantidad de escaciones con procentaje mayor a 70%\n",
    "print(f\"Estaciones: {len(estaciones)}\")\n",
    "print(f\"Estaciones con más del 70% de datos: {len([i for i in estaciones if porcentaje_datos[i] >= 70])}\")\n",
    "porcentaje_datos"
   ]
  },
  {
   "cell_type": "code",
   "execution_count": 3,
   "metadata": {},
   "outputs": [
    {
     "data": {
      "text/html": [
       "<div>\n",
       "<style scoped>\n",
       "    .dataframe tbody tr th:only-of-type {\n",
       "        vertical-align: middle;\n",
       "    }\n",
       "\n",
       "    .dataframe tbody tr th {\n",
       "        vertical-align: top;\n",
       "    }\n",
       "\n",
       "    .dataframe thead th {\n",
       "        text-align: right;\n",
       "    }\n",
       "</style>\n",
       "<table border=\"1\" class=\"dataframe\">\n",
       "  <thead>\n",
       "    <tr style=\"text-align: right;\">\n",
       "      <th></th>\n",
       "      <th>Unnamed: 0</th>\n",
       "      <th>PM10</th>\n",
       "      <th>PM2.5</th>\n",
       "      <th>PM10.1</th>\n",
       "      <th>PM2.5.1</th>\n",
       "      <th>PM10.2</th>\n",
       "      <th>PM2.5.2</th>\n",
       "      <th>PM10.3</th>\n",
       "      <th>PM2.5.3</th>\n",
       "      <th>PM10.4</th>\n",
       "      <th>...</th>\n",
       "      <th>PM10.10</th>\n",
       "      <th>PM2.5.10</th>\n",
       "      <th>PM10.11</th>\n",
       "      <th>PM2.5.11</th>\n",
       "      <th>PM10.12</th>\n",
       "      <th>PM2.5.12</th>\n",
       "      <th>PM10.13</th>\n",
       "      <th>PM2.5.13</th>\n",
       "      <th>PM10.14</th>\n",
       "      <th>PM2.5.14</th>\n",
       "    </tr>\n",
       "  </thead>\n",
       "  <tbody>\n",
       "    <tr>\n",
       "      <th>0</th>\n",
       "      <td>NaN</td>\n",
       "      <td>µg/m3</td>\n",
       "      <td>µg/m3</td>\n",
       "      <td>µg/m3</td>\n",
       "      <td>µg/m3</td>\n",
       "      <td>µg/m3</td>\n",
       "      <td>µg/m3</td>\n",
       "      <td>µg/m3</td>\n",
       "      <td>µg/m3</td>\n",
       "      <td>µg/m3</td>\n",
       "      <td>...</td>\n",
       "      <td>µg/m3</td>\n",
       "      <td>µg/m3</td>\n",
       "      <td>µg/m3</td>\n",
       "      <td>µg/m3</td>\n",
       "      <td>µg/m3</td>\n",
       "      <td>µg/m3</td>\n",
       "      <td>µg/m3</td>\n",
       "      <td>µg/m3</td>\n",
       "      <td>µg/m3</td>\n",
       "      <td>µg/m3</td>\n",
       "    </tr>\n",
       "    <tr>\n",
       "      <th>1</th>\n",
       "      <td>01-01-2021 01:00</td>\n",
       "      <td>59.6</td>\n",
       "      <td>34.6</td>\n",
       "      <td>150</td>\n",
       "      <td>109</td>\n",
       "      <td>21.6</td>\n",
       "      <td>21.6</td>\n",
       "      <td>----</td>\n",
       "      <td>----</td>\n",
       "      <td>40.3</td>\n",
       "      <td>...</td>\n",
       "      <td>36.7</td>\n",
       "      <td>23</td>\n",
       "      <td>53</td>\n",
       "      <td>49</td>\n",
       "      <td>----</td>\n",
       "      <td>----</td>\n",
       "      <td>----</td>\n",
       "      <td>140</td>\n",
       "      <td>16.8</td>\n",
       "      <td>13</td>\n",
       "    </tr>\n",
       "    <tr>\n",
       "      <th>2</th>\n",
       "      <td>01-01-2021 02:00</td>\n",
       "      <td>96</td>\n",
       "      <td>59.6</td>\n",
       "      <td>179</td>\n",
       "      <td>145</td>\n",
       "      <td>30.9</td>\n",
       "      <td>25</td>\n",
       "      <td>----</td>\n",
       "      <td>----</td>\n",
       "      <td>92.5</td>\n",
       "      <td>...</td>\n",
       "      <td>36.6</td>\n",
       "      <td>36</td>\n",
       "      <td>35</td>\n",
       "      <td>14</td>\n",
       "      <td>----</td>\n",
       "      <td>----</td>\n",
       "      <td>183</td>\n",
       "      <td>143</td>\n",
       "      <td>11.7</td>\n",
       "      <td>----</td>\n",
       "    </tr>\n",
       "    <tr>\n",
       "      <th>3</th>\n",
       "      <td>01-01-2021 03:00</td>\n",
       "      <td>96.3</td>\n",
       "      <td>62.7</td>\n",
       "      <td>235</td>\n",
       "      <td>188</td>\n",
       "      <td>35.7</td>\n",
       "      <td>----</td>\n",
       "      <td>----</td>\n",
       "      <td>----</td>\n",
       "      <td>68.3</td>\n",
       "      <td>...</td>\n",
       "      <td>50</td>\n",
       "      <td>50</td>\n",
       "      <td>17</td>\n",
       "      <td>17</td>\n",
       "      <td>----</td>\n",
       "      <td>----</td>\n",
       "      <td>186</td>\n",
       "      <td>171</td>\n",
       "      <td>15.4</td>\n",
       "      <td>11.2</td>\n",
       "    </tr>\n",
       "    <tr>\n",
       "      <th>4</th>\n",
       "      <td>01-01-2021 04:00</td>\n",
       "      <td>108</td>\n",
       "      <td>64</td>\n",
       "      <td>52</td>\n",
       "      <td>42</td>\n",
       "      <td>42.2</td>\n",
       "      <td>----</td>\n",
       "      <td>----</td>\n",
       "      <td>----</td>\n",
       "      <td>61.3</td>\n",
       "      <td>...</td>\n",
       "      <td>----</td>\n",
       "      <td>54</td>\n",
       "      <td>52</td>\n",
       "      <td>47</td>\n",
       "      <td>----</td>\n",
       "      <td>----</td>\n",
       "      <td>204</td>\n",
       "      <td>23</td>\n",
       "      <td>8.8</td>\n",
       "      <td>7.6</td>\n",
       "    </tr>\n",
       "    <tr>\n",
       "      <th>...</th>\n",
       "      <td>...</td>\n",
       "      <td>...</td>\n",
       "      <td>...</td>\n",
       "      <td>...</td>\n",
       "      <td>...</td>\n",
       "      <td>...</td>\n",
       "      <td>...</td>\n",
       "      <td>...</td>\n",
       "      <td>...</td>\n",
       "      <td>...</td>\n",
       "      <td>...</td>\n",
       "      <td>...</td>\n",
       "      <td>...</td>\n",
       "      <td>...</td>\n",
       "      <td>...</td>\n",
       "      <td>...</td>\n",
       "      <td>...</td>\n",
       "      <td>...</td>\n",
       "      <td>...</td>\n",
       "      <td>...</td>\n",
       "      <td>...</td>\n",
       "    </tr>\n",
       "    <tr>\n",
       "      <th>8767</th>\n",
       "      <td>MaxTime</td>\n",
       "      <td>17:00</td>\n",
       "      <td>23:00</td>\n",
       "      <td>02:00</td>\n",
       "      <td>03:00</td>\n",
       "      <td>09:00</td>\n",
       "      <td>11:00</td>\n",
       "      <td>22:00</td>\n",
       "      <td>18:00</td>\n",
       "      <td>08:00</td>\n",
       "      <td>...</td>\n",
       "      <td>06:00</td>\n",
       "      <td>04:00</td>\n",
       "      <td>10:00</td>\n",
       "      <td>10:00</td>\n",
       "      <td>07:00</td>\n",
       "      <td>22:00</td>\n",
       "      <td>04:00</td>\n",
       "      <td>03:00</td>\n",
       "      <td>07:00</td>\n",
       "      <td>14:00</td>\n",
       "    </tr>\n",
       "    <tr>\n",
       "      <th>8768</th>\n",
       "      <td>Avg</td>\n",
       "      <td>33.2</td>\n",
       "      <td>14.3</td>\n",
       "      <td>68.5</td>\n",
       "      <td>34.6</td>\n",
       "      <td>21.7</td>\n",
       "      <td>12.2</td>\n",
       "      <td>17.6</td>\n",
       "      <td>7.8</td>\n",
       "      <td>32.3</td>\n",
       "      <td>...</td>\n",
       "      <td>32.2</td>\n",
       "      <td>20.2</td>\n",
       "      <td>20.4</td>\n",
       "      <td>11.4</td>\n",
       "      <td>29.7</td>\n",
       "      <td>12.6</td>\n",
       "      <td>34.6</td>\n",
       "      <td>13.4</td>\n",
       "      <td>19.6</td>\n",
       "      <td>10.4</td>\n",
       "    </tr>\n",
       "    <tr>\n",
       "      <th>8769</th>\n",
       "      <td>Num</td>\n",
       "      <td>8564</td>\n",
       "      <td>8665</td>\n",
       "      <td>7524</td>\n",
       "      <td>7402</td>\n",
       "      <td>7843</td>\n",
       "      <td>8557</td>\n",
       "      <td>6635</td>\n",
       "      <td>6771</td>\n",
       "      <td>8023</td>\n",
       "      <td>...</td>\n",
       "      <td>6784</td>\n",
       "      <td>7977</td>\n",
       "      <td>8172</td>\n",
       "      <td>8443</td>\n",
       "      <td>8025</td>\n",
       "      <td>8313</td>\n",
       "      <td>8569</td>\n",
       "      <td>8360</td>\n",
       "      <td>4911</td>\n",
       "      <td>4842</td>\n",
       "    </tr>\n",
       "    <tr>\n",
       "      <th>8770</th>\n",
       "      <td>DataPrecent</td>\n",
       "      <td>97.8</td>\n",
       "      <td>98.9</td>\n",
       "      <td>85.9</td>\n",
       "      <td>84.5</td>\n",
       "      <td>89.5</td>\n",
       "      <td>97.7</td>\n",
       "      <td>75.7</td>\n",
       "      <td>77.3</td>\n",
       "      <td>91.6</td>\n",
       "      <td>...</td>\n",
       "      <td>77.4</td>\n",
       "      <td>91.1</td>\n",
       "      <td>93.3</td>\n",
       "      <td>96.4</td>\n",
       "      <td>91.6</td>\n",
       "      <td>94.9</td>\n",
       "      <td>97.8</td>\n",
       "      <td>95.4</td>\n",
       "      <td>56.1</td>\n",
       "      <td>55.3</td>\n",
       "    </tr>\n",
       "    <tr>\n",
       "      <th>8771</th>\n",
       "      <td>STD</td>\n",
       "      <td>19.4</td>\n",
       "      <td>9.1</td>\n",
       "      <td>34.0</td>\n",
       "      <td>17.4</td>\n",
       "      <td>14.0</td>\n",
       "      <td>9.6</td>\n",
       "      <td>10.1</td>\n",
       "      <td>6.5</td>\n",
       "      <td>20.9</td>\n",
       "      <td>...</td>\n",
       "      <td>19.6</td>\n",
       "      <td>14.7</td>\n",
       "      <td>16.6</td>\n",
       "      <td>11.0</td>\n",
       "      <td>16.8</td>\n",
       "      <td>8.9</td>\n",
       "      <td>24.9</td>\n",
       "      <td>12.1</td>\n",
       "      <td>13.5</td>\n",
       "      <td>8.9</td>\n",
       "    </tr>\n",
       "  </tbody>\n",
       "</table>\n",
       "<p>8772 rows × 31 columns</p>\n",
       "</div>"
      ],
      "text/plain": [
       "            Unnamed: 0   PM10  PM2.5 PM10.1 PM2.5.1 PM10.2 PM2.5.2 PM10.3  \\\n",
       "0                  NaN  µg/m3  µg/m3  µg/m3   µg/m3  µg/m3   µg/m3  µg/m3   \n",
       "1     01-01-2021 01:00   59.6   34.6    150     109   21.6    21.6   ----   \n",
       "2     01-01-2021 02:00     96   59.6    179     145   30.9      25   ----   \n",
       "3     01-01-2021 03:00   96.3   62.7    235     188   35.7    ----   ----   \n",
       "4     01-01-2021 04:00    108     64     52      42   42.2    ----   ----   \n",
       "...                ...    ...    ...    ...     ...    ...     ...    ...   \n",
       "8767           MaxTime  17:00  23:00  02:00   03:00  09:00   11:00  22:00   \n",
       "8768               Avg   33.2   14.3   68.5    34.6   21.7    12.2   17.6   \n",
       "8769               Num   8564   8665   7524    7402   7843    8557   6635   \n",
       "8770       DataPrecent   97.8   98.9   85.9    84.5   89.5    97.7   75.7   \n",
       "8771               STD   19.4    9.1   34.0    17.4   14.0     9.6   10.1   \n",
       "\n",
       "     PM2.5.3 PM10.4  ... PM10.10 PM2.5.10 PM10.11 PM2.5.11 PM10.12 PM2.5.12  \\\n",
       "0      µg/m3  µg/m3  ...   µg/m3    µg/m3   µg/m3    µg/m3   µg/m3    µg/m3   \n",
       "1       ----   40.3  ...    36.7       23      53       49    ----     ----   \n",
       "2       ----   92.5  ...    36.6       36      35       14    ----     ----   \n",
       "3       ----   68.3  ...      50       50      17       17    ----     ----   \n",
       "4       ----   61.3  ...    ----       54      52       47    ----     ----   \n",
       "...      ...    ...  ...     ...      ...     ...      ...     ...      ...   \n",
       "8767   18:00  08:00  ...   06:00    04:00   10:00    10:00   07:00    22:00   \n",
       "8768     7.8   32.3  ...    32.2     20.2    20.4     11.4    29.7     12.6   \n",
       "8769    6771   8023  ...    6784     7977    8172     8443    8025     8313   \n",
       "8770    77.3   91.6  ...    77.4     91.1    93.3     96.4    91.6     94.9   \n",
       "8771     6.5   20.9  ...    19.6     14.7    16.6     11.0    16.8      8.9   \n",
       "\n",
       "     PM10.13 PM2.5.13 PM10.14 PM2.5.14  \n",
       "0      µg/m3    µg/m3   µg/m3    µg/m3  \n",
       "1       ----      140    16.8       13  \n",
       "2        183      143    11.7     ----  \n",
       "3        186      171    15.4     11.2  \n",
       "4        204       23     8.8      7.6  \n",
       "...      ...      ...     ...      ...  \n",
       "8767   04:00    03:00   07:00    14:00  \n",
       "8768    34.6     13.4    19.6     10.4  \n",
       "8769    8569     8360    4911     4842  \n",
       "8770    97.8     95.4    56.1     55.3  \n",
       "8771    24.9     12.1    13.5      8.9  \n",
       "\n",
       "[8772 rows x 31 columns]"
      ]
     },
     "execution_count": 3,
     "metadata": {},
     "output_type": "execute_result"
    }
   ],
   "source": [
    "# Crear la figura y los ejes\n",
    "fig, ax = plt.subplots(figsize=(10, 8))\n",
    "\n",
    "# Configurar el mapa de Bogotá\n",
    "mapa = Basemap(projection='lcc', lat_0=4.6097, lon_0=-74.0817,\n",
    "               resolution=\"h\", area_thresh=0.1,\n",
    "               llcrnrlon=-74.25, llcrnrlat=4.4,\n",
    "               urcrnrlon=-73.96, urcrnrlat=4.86\n",
    "               )\n",
    "mapa.etopo(scale=0.5, alpha=0.5)\n",
    "mapa.shadedrelief()\n",
    "\n",
    "# Dibujar los límites del mapa\n",
    "mapa.drawcoastlines()\n",
    "mapa.drawcountries()\n",
    "mapa.drawstates()\n",
    "# mapa.fillcontinents(color='lightgray', zorder=0)\n",
    "\n",
    "# Dibujar líneas de latitud y longitud\n",
    "mapa.drawparallels(range(4, 5), labels=[1, 0, 0, 0])\n",
    "mapa.drawmeridians(range(-75, -73), labels=[0, 0, 0, 1])\n",
    "\n",
    "# Convertir las coordenadas a las coordenadas del mapa\n",
    "x, y = mapa(np.array([coordenadas[i][1] for i in estaciones]), np.array([coordenadas[i][0] for i in estaciones]))\n",
    "\n",
    "\n",
    "# Dibujar los puntos en el mapa\n",
    "for i, categoria in enumerate(clasificaciones.values()):\n",
    "    ax.scatter(x[i], y[i], color=colores[categoria], marker='o', s=50)\n",
    "\n",
    "# Mostrar el gráfico\n",
    "plt.show()"
   ]
  }
 ],
 "metadata": {
  "kernelspec": {
   "display_name": "base",
   "language": "python",
   "name": "python3"
  },
  "language_info": {
   "codemirror_mode": {
    "name": "ipython",
    "version": 3
   },
   "file_extension": ".py",
   "mimetype": "text/x-python",
   "name": "python",
   "nbconvert_exporter": "python",
   "pygments_lexer": "ipython3",
   "version": "3.11.3"
  },
  "orig_nbformat": 4
 },
 "nbformat": 4,
 "nbformat_minor": 2
}
